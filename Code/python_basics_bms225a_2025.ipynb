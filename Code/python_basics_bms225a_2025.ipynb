{
  "nbformat": 4,
  "nbformat_minor": 0,
  "metadata": {
    "colab": {
      "provenance": [],
      "toc_visible": true
    },
    "kernelspec": {
      "name": "python3",
      "display_name": "Python 3"
    },
    "language_info": {
      "name": "python"
    }
  },
  "cells": [
    {
      "cell_type": "markdown",
      "source": [
        "Covers materials from the [ABSP](https://automatetheboringstuff.com/#toc)\n",
        "book (chapters 1-5)"
      ],
      "metadata": {
        "id": "RJVSCJYFbp-4"
      }
    },
    {
      "cell_type": "code",
      "source": [
        "# @title click play to execute this cell (setup, imports and utils)\n",
        "\n",
        "import ipywidgets as widgets\n",
        "from IPython.display import display, HTML, clear_output\n",
        "import urllib.parse\n",
        "# Function to generate the iframe when the button is clicked\n",
        "def on_button_click(b):\n",
        "    clear_output()  # Clear previous output, including any iframes\n",
        "    display(code_input, button)  # Redisplay the text area and button\n",
        "\n",
        "    raw_code = code_input.value  # Get the code from the text area\n",
        "    url = generate_pythontutor_url(raw_code)  # Generate the URL dynamically\n",
        "    display_url(url)  # Display the iframe\n",
        "\n",
        "def display_url(url,height=1000,width=1200):\n",
        "    iframe_code = f'''\n",
        "    <iframe width=\"{width}\" height=\"{height}\" frameborder=\"0\" src=\"{url}\"></iframe>\n",
        "    '''\n",
        "    display(HTML(iframe_code))\n",
        "\n",
        "def generate_pythontutor_url(raw_code):\n",
        "    # URL encode the raw code\n",
        "    encoded_code = urllib.parse.quote(raw_code)\n",
        "\n",
        "    # Base URL for Python Tutor iframe\n",
        "    base_url = \"https://pythontutor.com/iframe-embed.html\"\n",
        "\n",
        "    # Build the full URL with parameters\n",
        "    full_url = f\"{base_url}#code={encoded_code}&codeDivHeight={580}&codeDivWidth={640}&cumulative=false&curInstr=0&heapPrimitives=nevernest&origin=opt-frontend.js&py=3&rawInputLstJSON=%5B%5D&textReferences=false\"\n",
        "\n",
        "    return full_url"
      ],
      "metadata": {
        "cellView": "form",
        "id": "mLiI573WQg3E"
      },
      "execution_count": null,
      "outputs": []
    },
    {
      "cell_type": "markdown",
      "source": [
        "# Operations, expressions and data types"
      ],
      "metadata": {
        "id": "6Qf1CnQQWIkY"
      }
    },
    {
      "cell_type": "code",
      "source": [
        "2+3 # Simple addition"
      ],
      "metadata": {
        "id": "LwZCsFmRj3ka"
      },
      "execution_count": null,
      "outputs": []
    },
    {
      "cell_type": "code",
      "source": [
        "3*4-1 # Multiplication and subtraction, respecting the order of operations"
      ],
      "metadata": {
        "id": "RHIGZTDK_1vD"
      },
      "execution_count": null,
      "outputs": []
    },
    {
      "cell_type": "code",
      "source": [
        "3*(4-1) # Parentheses change the order of evaluation"
      ],
      "metadata": {
        "id": "SMAZXQtGGMdt"
      },
      "execution_count": null,
      "outputs": []
    },
    {
      "cell_type": "code",
      "source": [
        "2.5 * ( (0.5+1) * 2 / (2-0.5) ) # A more complex calculation combining addition, multiplication, and division"
      ],
      "metadata": {
        "id": "gFRteI1z_1yA"
      },
      "execution_count": null,
      "outputs": []
    },
    {
      "cell_type": "code",
      "source": [
        "'Hello' # A string value"
      ],
      "metadata": {
        "id": "vuAHn1Ma_1sO"
      },
      "execution_count": null,
      "outputs": []
    },
    {
      "cell_type": "code",
      "source": [
        "'Hello, '*10 + 'BMS!' # String multiplication and concatenation"
      ],
      "metadata": {
        "id": "mRch_IZqL6-k"
      },
      "execution_count": null,
      "outputs": []
    },
    {
      "cell_type": "markdown",
      "source": [
        "The following operations are incorrect and will generate errors"
      ],
      "metadata": {
        "id": "BaylMkdaS_8q"
      }
    },
    {
      "cell_type": "code",
      "source": [
        "'Hello' - 'o' # Error: You can't subtract strings"
      ],
      "metadata": {
        "id": "c3gmcYD0_1ls"
      },
      "execution_count": null,
      "outputs": []
    },
    {
      "cell_type": "code",
      "source": [
        "'Hello' + 2 # Error: You can't concatenate a string and an integer"
      ],
      "metadata": {
        "id": "FceaeIPHM3k0"
      },
      "execution_count": null,
      "outputs": []
    },
    {
      "cell_type": "code",
      "source": [
        "'Hello, '*2.5 # Error: Multiplication by a non-integer is not allowed"
      ],
      "metadata": {
        "id": "axwxiMkd_1Vy"
      },
      "execution_count": null,
      "outputs": []
    },
    {
      "cell_type": "code",
      "source": [
        "'Hello'/2  # Error: You can't divide strings"
      ],
      "metadata": {
        "id": "2NoSKkvtNOrn"
      },
      "execution_count": null,
      "outputs": []
    },
    {
      "cell_type": "markdown",
      "source": [
        "# Storing values in variables"
      ],
      "metadata": {
        "id": "eG5HaJ0eWN0u"
      }
    },
    {
      "cell_type": "code",
      "source": [
        "gene_name = 'KRAS' # Assign a value to a variable"
      ],
      "metadata": {
        "id": "uIZ7osHfNOoc"
      },
      "execution_count": null,
      "outputs": []
    },
    {
      "cell_type": "code",
      "source": [
        "print(gene_name) # Prints the value of the variable"
      ],
      "metadata": {
        "id": "4DZ3t0JoNOl3"
      },
      "execution_count": null,
      "outputs": []
    },
    {
      "cell_type": "code",
      "source": [
        "print('gene_name') # Prints the string 'gene_name'"
      ],
      "metadata": {
        "id": "5xyVXlQzNOi-"
      },
      "execution_count": null,
      "outputs": []
    },
    {
      "cell_type": "markdown",
      "source": [
        "Updating variables and working with strings and integers"
      ],
      "metadata": {
        "id": "YAXbeKTGTd4E"
      }
    },
    {
      "cell_type": "code",
      "source": [
        "gene_name = 'KRAS'"
      ],
      "metadata": {
        "id": "dTSmP0LzNOT5"
      },
      "execution_count": null,
      "outputs": []
    },
    {
      "cell_type": "code",
      "source": [
        "x = 5\n",
        "x = x + 2\n",
        "# x = x - 2\n",
        "gene_name = gene_name+'>'\n",
        "x = gene_name*x\n",
        "print(x)"
      ],
      "metadata": {
        "id": "Thlm6ZTflKbl"
      },
      "execution_count": null,
      "outputs": []
    },
    {
      "cell_type": "code",
      "source": [
        "# The above code with comments!\n",
        "\n",
        "# Define the initial gene name\n",
        "gene_name = 'KRAS'\n",
        "\n",
        "# Initialize a value\n",
        "initial_value = 5\n",
        "\n",
        "# Increase the initial value by 2.\n",
        "updated_value = initial_value + 2\n",
        "\n",
        "# Modify the gene_name by appending a '>' symbol.\n",
        "modified_gene_name = gene_name + '>'  # Now modified_gene_name is 'KRAS>'\n",
        "\n",
        "# Multiply the modified_gene_name string by the value of updated_value.\n",
        "# This results in the gene name being repeated multiple times.\n",
        "repeated_gene_string = modified_gene_name * updated_value\n",
        "\n",
        "# Print the final output.\n",
        "print(repeated_gene_string)\n",
        "\n"
      ],
      "metadata": {
        "id": "RCH4YcjzsRT_"
      },
      "execution_count": null,
      "outputs": []
    },
    {
      "cell_type": "markdown",
      "source": [
        "# Flow control"
      ],
      "metadata": {
        "id": "xh4wa7BYpqSO"
      }
    },
    {
      "cell_type": "code",
      "source": [
        "2 != 3  # True: 2 is not equal to 3"
      ],
      "metadata": {
        "id": "F2vMOwiGHyb_"
      },
      "execution_count": null,
      "outputs": []
    },
    {
      "cell_type": "code",
      "source": [
        "2 == 2 # True: 2 is equal to 2"
      ],
      "metadata": {
        "id": "pVkiPE1AHzaB"
      },
      "execution_count": null,
      "outputs": []
    },
    {
      "cell_type": "code",
      "source": [
        "'hello' == 'Hello' # False: case-sensitive comparison"
      ],
      "metadata": {
        "id": "T23LB2X8H3Jt"
      },
      "execution_count": null,
      "outputs": []
    },
    {
      "cell_type": "code",
      "source": [
        "'hello' > 0"
      ],
      "metadata": {
        "id": "If6OPkHFH_Wq"
      },
      "execution_count": null,
      "outputs": []
    },
    {
      "cell_type": "markdown",
      "source": [
        "- Using an `if-else` block to control the flow of the program"
      ],
      "metadata": {
        "id": "3QlEu_zcUH_0"
      }
    },
    {
      "cell_type": "code",
      "source": [
        "x=3 # a variable (you can change the value)\n",
        "\n",
        "if x<0:\n",
        "  print('x is negative') # Executes if x is less than 0\n",
        "else:\n",
        "  print('x is not negative') # Executes if x is 0 or positive"
      ],
      "metadata": {
        "id": "0BVw_0e6IFsj"
      },
      "execution_count": null,
      "outputs": []
    },
    {
      "cell_type": "markdown",
      "source": [
        "- `If-elif-else` structure for multiple conditions"
      ],
      "metadata": {
        "id": "UIGwvVGWUTT1"
      }
    },
    {
      "cell_type": "code",
      "source": [
        "x=0 # a variable (you can change the value)\n",
        "\n",
        "if x<0:\n",
        "  print('negative')\n",
        "elif x==0:\n",
        "  print('zero')\n",
        "else:\n",
        "  print('positive')"
      ],
      "metadata": {
        "id": "qRlLeDfkIFpO"
      },
      "execution_count": null,
      "outputs": []
    },
    {
      "cell_type": "markdown",
      "source": [
        "- Nested conditions to check the value of gene_expression"
      ],
      "metadata": {
        "id": "i_9SZ67AUd6z"
      }
    },
    {
      "cell_type": "code",
      "source": [
        "gene_expression = 54"
      ],
      "metadata": {
        "id": "8nP8WDHTMVV-"
      },
      "execution_count": null,
      "outputs": []
    },
    {
      "cell_type": "code",
      "source": [
        "if gene_expression<=0:\n",
        "  print('the gene is not expressed')\n",
        "else:\n",
        "  if gene_expression>0:\n",
        "    print('the gene is expressed')\n",
        "  if gene_expression>50:\n",
        "    print('the gene is highly expressed')"
      ],
      "metadata": {
        "id": "ppkChX0IMEt9"
      },
      "execution_count": null,
      "outputs": []
    },
    {
      "cell_type": "code",
      "source": [
        "# Another example: checking both name and password\n",
        "\n",
        "name = 'Mary'\n",
        "password = 'sworfish'\n",
        "\n",
        "if name == 'Mary':\n",
        "    print('Hello Mary')\n",
        "    if password == 'swordfish':\n",
        "        print('Access granted.')\n",
        "    else:\n",
        "        print('Wrong password.')"
      ],
      "metadata": {
        "id": "ifnh30OxMEmM"
      },
      "execution_count": null,
      "outputs": []
    },
    {
      "cell_type": "markdown",
      "source": [
        "### Division example with user input"
      ],
      "metadata": {
        "id": "ao5lcQwRUoKC"
      }
    },
    {
      "cell_type": "code",
      "source": [
        "print('1/x Calculator!')\n",
        "\n",
        "# Prompt the user for input. Notice the int() function which is\n",
        "# there to tranform the input value from string to an integer data type\n",
        "x = int(input('Enter the value of x: '))\n",
        "\n",
        "# Handle the case where x is zero\n",
        "if x == 0:\n",
        "    print(\"Error: Division by zero is not allowed.\")\n",
        "else:\n",
        "    result = 1 / x\n",
        "    print(f\"1/{x} = {result}\")  # this is an f-string, very useful for embedding variables directly into strings.\n",
        "\n"
      ],
      "metadata": {
        "id": "uJvx-uMQlKY9"
      },
      "execution_count": null,
      "outputs": []
    },
    {
      "cell_type": "markdown",
      "source": [
        "# while loops"
      ],
      "metadata": {
        "id": "uCK3CX-HTEfu"
      }
    },
    {
      "cell_type": "code",
      "source": [
        "# Demonstrate iteration using print statements\n",
        "print(0)\n",
        "print(1)\n",
        "print(2)"
      ],
      "metadata": {
        "id": "S2wxJIj4GzxD"
      },
      "execution_count": null,
      "outputs": []
    },
    {
      "cell_type": "code",
      "source": [
        "# Illustrating how a while loop works with manual iteration\n",
        "number = 0\n",
        "\n",
        "# iteration 1\n",
        "print(number)\n",
        "number = number +1\n",
        "\n",
        "# iteration 2\n",
        "print(number)\n",
        "number = number +1\n",
        "\n",
        "# iteration 3\n",
        "print(number)\n",
        "number = number +1"
      ],
      "metadata": {
        "id": "CQIEFlirRW2z"
      },
      "execution_count": null,
      "outputs": []
    },
    {
      "cell_type": "markdown",
      "source": [
        "- Using a `while` loop to automate the iteration"
      ],
      "metadata": {
        "id": "g7yZRl7YU7OI"
      }
    },
    {
      "cell_type": "code",
      "source": [
        "number = 0  # Start at 0\n",
        "while number < 3:  # Run until number reaches 3\n",
        "    print(number)\n",
        "    number = number +1  # Increment number by 1"
      ],
      "metadata": {
        "id": "j7IgNDCWV2Aw"
      },
      "execution_count": null,
      "outputs": []
    },
    {
      "cell_type": "code",
      "source": [
        "# Demonstrate the += operator for convenience\n",
        "\n",
        "number = 0  # Start at 0\n",
        "while number < 3:  # Run until number reaches 3\n",
        "    print(number)\n",
        "    number += 1  # Increment number by 1"
      ],
      "metadata": {
        "id": "kWXH0-HAUUBs"
      },
      "execution_count": null,
      "outputs": []
    },
    {
      "cell_type": "code",
      "source": [],
      "metadata": {
        "id": "UPysmF6MUTyo"
      },
      "execution_count": null,
      "outputs": []
    },
    {
      "cell_type": "markdown",
      "source": [
        "# for loops"
      ],
      "metadata": {
        "id": "1zpq9H1-VIXn"
      }
    },
    {
      "cell_type": "code",
      "source": [
        "# Demonstrate a for loop with a range of values\n",
        "for number in range(3):\n",
        "  print(number)"
      ],
      "metadata": {
        "id": "zS7VFL_YOve7"
      },
      "execution_count": null,
      "outputs": []
    },
    {
      "cell_type": "code",
      "source": [
        "# Loop from 0 to 9\n",
        "for number in range(10):\n",
        "  print(number)"
      ],
      "metadata": {
        "id": "n_AD6vxkSOfy"
      },
      "execution_count": null,
      "outputs": []
    },
    {
      "cell_type": "code",
      "source": [
        "# Loop from 2 to 9\n",
        "for number in range(2,10):\n",
        "  print(number)"
      ],
      "metadata": {
        "id": "cX50COL-lKWH"
      },
      "execution_count": null,
      "outputs": []
    },
    {
      "cell_type": "code",
      "source": [
        "# Loop from 2 to 9, with a step of 3\n",
        "for number in range(2,10,3):\n",
        "  print(number)"
      ],
      "metadata": {
        "id": "dmOm914vlKS_"
      },
      "execution_count": null,
      "outputs": []
    },
    {
      "cell_type": "code",
      "source": [
        "# Iterate over a string to print each character\n",
        "sentence = 'Hello, world!'\n",
        "\n",
        "for letter in sentence:\n",
        "  print(letter)"
      ],
      "metadata": {
        "id": "oKm8FA8MZqN3"
      },
      "execution_count": null,
      "outputs": []
    },
    {
      "cell_type": "code",
      "source": [
        "# iterate over a list\n",
        "for fruit in ['apple','orange','lemon']:\n",
        "  print(fruit)"
      ],
      "metadata": {
        "id": "eOFPR3nMXGRX"
      },
      "execution_count": null,
      "outputs": []
    },
    {
      "cell_type": "code",
      "source": [
        "### try to exit the following while loop"
      ],
      "metadata": {
        "id": "-C3pvGgiSQxp"
      },
      "execution_count": null,
      "outputs": []
    },
    {
      "cell_type": "code",
      "source": [
        "### cannot exit this 'while loop' unless you type in 'your name'\n",
        "### well technically you can exit by clicking on the stop button\n",
        "name = ''\n",
        "while name != 'your name':\n",
        "  print('Please type your name.')\n",
        "  name = input()\n",
        "print('Thank you!')"
      ],
      "metadata": {
        "id": "j2vOw-JgRAeo"
      },
      "execution_count": null,
      "outputs": []
    },
    {
      "cell_type": "markdown",
      "source": [
        "#Functions"
      ],
      "metadata": {
        "id": "kl2Rs9ovmkzv"
      }
    },
    {
      "cell_type": "code",
      "source": [
        "# Define a function that adds two numbers and scales the result\n",
        "def add_and_scale(x, y, scale_param = 1):\n",
        "  result = ( x + y ) * scale_param\n",
        "  return result"
      ],
      "metadata": {
        "id": "YAbI_Pjen4C5"
      },
      "execution_count": null,
      "outputs": []
    },
    {
      "cell_type": "code",
      "source": [
        "# Define a function with a detailed docstring explaining the parameters and the return value\n",
        "def add_and_scale(x, y, scale_param=1):\n",
        "    \"\"\"\n",
        "    Adds two numbers and scales the result by a specified parameter.\n",
        "\n",
        "    Parameters:\n",
        "    x (int or float): The first number to add.\n",
        "    y (int or float): The second number to add.\n",
        "    scale_param (int or float, optional): The scaling factor to multiply the sum by.\n",
        "                                          Default is 1.\n",
        "\n",
        "    Returns:\n",
        "    int or float: The result of adding x and y, then multiplying by scale_param.\n",
        "\n",
        "    Example:\n",
        "    >>> add_and_scale(3, 5)\n",
        "    8\n",
        "    >>> add_and_scale(3, 5, 2)\n",
        "    16\n",
        "    \"\"\"\n",
        "    # Add the two input numbers x and y\n",
        "    result = (x + y)\n",
        "\n",
        "    # Scale the sum by the scale_param\n",
        "    result = result * scale_param\n",
        "\n",
        "    # Return the final result\n",
        "    return result\n"
      ],
      "metadata": {
        "id": "GHj4l6ghoa5D"
      },
      "execution_count": null,
      "outputs": []
    },
    {
      "cell_type": "code",
      "source": [
        "## This can be used in Jupyter to view the function's docstring (and get help)\n",
        "## name_of_function followd by a question mark\n",
        "add_and_scale?"
      ],
      "metadata": {
        "id": "2shvD_Ueon2n"
      },
      "execution_count": null,
      "outputs": []
    },
    {
      "cell_type": "markdown",
      "source": [
        "# Lists"
      ],
      "metadata": {
        "id": "JY1MuLeZ9-eA"
      }
    },
    {
      "cell_type": "code",
      "source": [
        "# Define a list of fruits (represented by emojis)\n",
        "# notice the quotes as emojis are text characteds like 'a' and 'b'\n",
        "fruit_list = ['🥝', '🍋','🍊','🍓','🍋','🍋']"
      ],
      "metadata": {
        "id": "8UENVhKX-BR9"
      },
      "execution_count": null,
      "outputs": []
    },
    {
      "cell_type": "markdown",
      "source": [
        "- Accessing list elements by index"
      ],
      "metadata": {
        "id": "kNd2kQnmWnyf"
      }
    },
    {
      "cell_type": "code",
      "source": [
        "fruit_list[2] # The third element"
      ],
      "metadata": {
        "id": "w1w2OtuY-i7W"
      },
      "execution_count": null,
      "outputs": []
    },
    {
      "cell_type": "code",
      "source": [
        "fruit_list[0] # The first element"
      ],
      "metadata": {
        "id": "nCfDvKbI-BPa"
      },
      "execution_count": null,
      "outputs": []
    },
    {
      "cell_type": "code",
      "source": [
        "fruit_list[-1] # The last element"
      ],
      "metadata": {
        "id": "Md2bF8YB-BMg"
      },
      "execution_count": null,
      "outputs": []
    },
    {
      "cell_type": "code",
      "source": [
        "# Add an element to the end of the list\n",
        "fruit_list.append('🍋')"
      ],
      "metadata": {
        "id": "QNiUw9MS-y1y"
      },
      "execution_count": null,
      "outputs": []
    },
    {
      "cell_type": "code",
      "source": [
        "fruit_list"
      ],
      "metadata": {
        "id": "jnVpmzGh-BJs"
      },
      "execution_count": null,
      "outputs": []
    },
    {
      "cell_type": "markdown",
      "source": [
        "- finding the index of an element"
      ],
      "metadata": {
        "id": "e6GrQ1WYW4im"
      }
    },
    {
      "cell_type": "code",
      "source": [
        "fruit_list.index('🍊') # Returns 2,(the first occurence of the item in the list)"
      ],
      "metadata": {
        "id": "egPw4u3K_A9g"
      },
      "execution_count": null,
      "outputs": []
    },
    {
      "cell_type": "code",
      "source": [
        "fruit_list.index('🍋') # Returns 1 (the first occurence of the item in the list)"
      ],
      "metadata": {
        "id": "ZaTpd_vn_EZ-"
      },
      "execution_count": null,
      "outputs": []
    },
    {
      "cell_type": "code",
      "source": [
        "fruit_list[2:] #list from index 2 until the end"
      ],
      "metadata": {
        "id": "Fllyx030_iPa"
      },
      "execution_count": null,
      "outputs": []
    },
    {
      "cell_type": "code",
      "source": [
        "# Trying to find an element not in the list will result in an error\n",
        "fruit_list.index('🍇')"
      ],
      "metadata": {
        "id": "r02naKdX_EXG"
      },
      "execution_count": null,
      "outputs": []
    },
    {
      "cell_type": "markdown",
      "source": [
        "- Adding and removing items from the list"
      ],
      "metadata": {
        "id": "lTEGF8VTXco-"
      }
    },
    {
      "cell_type": "code",
      "source": [
        "fruit_list.append('🍇') # Add grape emoji\n",
        "fruit_list"
      ],
      "metadata": {
        "id": "W9Mz4-ciAK09"
      },
      "execution_count": null,
      "outputs": []
    },
    {
      "cell_type": "code",
      "source": [
        "last_item = fruit_list.pop() #removes last item (grape) from list and saves value in a variable"
      ],
      "metadata": {
        "id": "TjgCIzSR_btg"
      },
      "execution_count": null,
      "outputs": []
    },
    {
      "cell_type": "code",
      "source": [
        "last_item"
      ],
      "metadata": {
        "id": "zv_LgINXpBsD"
      },
      "execution_count": null,
      "outputs": []
    },
    {
      "cell_type": "code",
      "source": [
        "# Sorting the list\n",
        "fruit_list.sort() # this will sort the list (not sure what the sorting rules are for emojis :)\n",
        "fruit_list"
      ],
      "metadata": {
        "id": "eILnTWENBCi3"
      },
      "execution_count": null,
      "outputs": []
    },
    {
      "cell_type": "code",
      "source": [
        "# Sorting a list of numbers\n",
        "numbers_list = [3,5,1,8,3,3,3]\n",
        "numbers_list.sort()\n",
        "numbers_list"
      ],
      "metadata": {
        "id": "68ymf3ETBWyR"
      },
      "execution_count": null,
      "outputs": []
    },
    {
      "cell_type": "code",
      "source": [
        "# Sorting a list of words\n",
        "word_list = ['Bank','House','Car','Cat','Python','Dog','Air']\n",
        "word_list.sort()\n",
        "word_list"
      ],
      "metadata": {
        "id": "Tnrog_xHBfuc"
      },
      "execution_count": null,
      "outputs": []
    },
    {
      "cell_type": "code",
      "source": [
        "# Concatenating lists\n",
        "fruit_list + word_list # You can combine two lists"
      ],
      "metadata": {
        "id": "q0t8q_-RBCgQ"
      },
      "execution_count": null,
      "outputs": []
    },
    {
      "cell_type": "code",
      "source": [
        "# lists can hold different data types (strings and numbers in this case)\n",
        "fruit_list + numbers_list"
      ],
      "metadata": {
        "id": "7JdKF7-hBCdb"
      },
      "execution_count": null,
      "outputs": []
    },
    {
      "cell_type": "markdown",
      "source": [
        "#### iterating over a list"
      ],
      "metadata": {
        "id": "qIHjSEtcYH7g"
      }
    },
    {
      "cell_type": "code",
      "source": [
        "# for loops with lists\n",
        "for fruit in fruit_list:\n",
        "  print(fruit)"
      ],
      "metadata": {
        "id": "VG-T3mP-FMjR"
      },
      "execution_count": null,
      "outputs": []
    },
    {
      "cell_type": "code",
      "source": [],
      "metadata": {
        "id": "MxJqej0QGqxl"
      },
      "execution_count": null,
      "outputs": []
    },
    {
      "cell_type": "markdown",
      "source": [
        "#### slicing a list"
      ],
      "metadata": {
        "id": "_wA4krSbYxnw"
      }
    },
    {
      "cell_type": "code",
      "source": [
        "# slicing from start to end\n",
        "numbers_list[:]"
      ],
      "metadata": {
        "id": "qIyZo5JYCwYG"
      },
      "execution_count": null,
      "outputs": []
    },
    {
      "cell_type": "code",
      "source": [
        "# slicing from start to end step=1\n",
        "numbers_list[::1]"
      ],
      "metadata": {
        "id": "sEDvi1P4CwVe"
      },
      "execution_count": null,
      "outputs": []
    },
    {
      "cell_type": "code",
      "source": [
        "# slicing from start to end step=2\n",
        "numbers_list[::2] # skip one"
      ],
      "metadata": {
        "id": "gxYHZ9RUCwS7"
      },
      "execution_count": null,
      "outputs": []
    },
    {
      "cell_type": "code",
      "source": [
        "# slicing from start to end step=3\n",
        "numbers_list[::3] # skip two"
      ],
      "metadata": {
        "id": "dZokJlV9DiSR"
      },
      "execution_count": null,
      "outputs": []
    },
    {
      "cell_type": "code",
      "source": [
        "# slicing from start to end step=-1\n",
        "numbers_list[::-1] ### This reverses the list!!"
      ],
      "metadata": {
        "id": "wuJL7eniDiPY"
      },
      "execution_count": null,
      "outputs": []
    },
    {
      "cell_type": "markdown",
      "source": [
        "#### list of lists"
      ],
      "metadata": {
        "id": "uatvSjQFYOpO"
      }
    },
    {
      "cell_type": "code",
      "source": [
        "# Create a list that contains other lists\n",
        "list_of_lists = [ fruit_list, numbers_list, word_list ]\n",
        "list_of_lists"
      ],
      "metadata": {
        "id": "GF18eeyD_EUf"
      },
      "execution_count": null,
      "outputs": []
    },
    {
      "cell_type": "code",
      "source": [
        "# Accessing the second list in the list of lists\n",
        "list_of_lists[1] # This is numbers_list"
      ],
      "metadata": {
        "id": "oUPPVxzhpS56"
      },
      "execution_count": null,
      "outputs": []
    },
    {
      "cell_type": "markdown",
      "source": [
        "# Sets\n",
        "Sets are collections of unique items"
      ],
      "metadata": {
        "id": "uZ-84__XEEW_"
      }
    },
    {
      "cell_type": "code",
      "source": [
        "fruit_list # List may contain duplicate items"
      ],
      "metadata": {
        "id": "fECLs5vTEQ0f"
      },
      "execution_count": null,
      "outputs": []
    },
    {
      "cell_type": "code",
      "source": [
        "set(fruit_list) # Converts to a set with unique elements only"
      ],
      "metadata": {
        "id": "0ygDov3sEN8y"
      },
      "execution_count": null,
      "outputs": []
    },
    {
      "cell_type": "code",
      "source": [
        "# Initialize a set from a list\n",
        "fruit_set = set(fruit_list) # Converts the list to a set\n",
        "fruit_set"
      ],
      "metadata": {
        "id": "w5uCozjrEjAQ"
      },
      "execution_count": null,
      "outputs": []
    },
    {
      "cell_type": "markdown",
      "source": [
        "- Checking if an element exists in a set"
      ],
      "metadata": {
        "id": "BqoX_5jnZ1eH"
      }
    },
    {
      "cell_type": "code",
      "source": [
        "'🍎' in fruit_set # False, no apple emoji in the set"
      ],
      "metadata": {
        "id": "B9U4YaN-EzlZ"
      },
      "execution_count": null,
      "outputs": []
    },
    {
      "cell_type": "code",
      "source": [
        "# do we have lemmons?\n",
        "'🍋' in fruit_set"
      ],
      "metadata": {
        "id": "6msIt7Q7EziP"
      },
      "execution_count": null,
      "outputs": []
    },
    {
      "cell_type": "code",
      "source": [
        "# this also works for lists\n",
        "'🍋' in fruit_list"
      ],
      "metadata": {
        "id": "tVGPD8LlEzfZ"
      },
      "execution_count": null,
      "outputs": []
    },
    {
      "cell_type": "code",
      "source": [
        "# Sets do not allow indexing\n",
        "fruit_set[2]  # This will fail, as sets are unordered"
      ],
      "metadata": {
        "id": "_weyoNIrFmwk"
      },
      "execution_count": null,
      "outputs": []
    },
    {
      "cell_type": "markdown",
      "source": [
        "- Set operations"
      ],
      "metadata": {
        "id": "M1LZ-nDXaBXJ"
      }
    },
    {
      "cell_type": "code",
      "source": [
        "fruit_set.intersection({'🥝', '🍎'}) # Finds the common elements between sets"
      ],
      "metadata": {
        "id": "3Bw5D2wNLb3_"
      },
      "execution_count": null,
      "outputs": []
    },
    {
      "cell_type": "code",
      "source": [
        "fruit_set = fruit_set.union('🍎') # Adds an apple to the set"
      ],
      "metadata": {
        "id": "3L8VDLfSGwAT"
      },
      "execution_count": null,
      "outputs": []
    },
    {
      "cell_type": "code",
      "source": [
        "fruit_set"
      ],
      "metadata": {
        "id": "mptEl5huHktM"
      },
      "execution_count": null,
      "outputs": []
    },
    {
      "cell_type": "code",
      "source": [
        "fruit_set.union({1,2,3,4}) # sets can also hold multiple data types"
      ],
      "metadata": {
        "id": "H717Yf2QJfa9"
      },
      "execution_count": null,
      "outputs": []
    },
    {
      "cell_type": "markdown",
      "source": [
        "# Dictionaries\n",
        "A dictionary stores key-value pairs\n"
      ],
      "metadata": {
        "id": "PPtqmfYSJKcb"
      }
    },
    {
      "cell_type": "code",
      "source": [
        "# define a dictionary\n",
        "fruit_to_color = {'🍋':'yellow', '🍎':'red', '🥝':'green'}"
      ],
      "metadata": {
        "id": "5y9X-UEtJMzP"
      },
      "execution_count": null,
      "outputs": []
    },
    {
      "cell_type": "code",
      "source": [
        "fruit_to_color['🍋'] # Accessing values by key"
      ],
      "metadata": {
        "id": "jqKreCvxJMwZ"
      },
      "execution_count": null,
      "outputs": []
    },
    {
      "cell_type": "code",
      "source": [
        "# Attempting to access a key that doesn’t exist results in an error\n",
        "fruit_to_color['🍊']"
      ],
      "metadata": {
        "id": "nq9AAd_AJMs-"
      },
      "execution_count": null,
      "outputs": []
    },
    {
      "cell_type": "code",
      "source": [
        "fruit_to_color = {'🍋':'yellow', '🍎':'red', '🥝':'green','🥝':'brown'}"
      ],
      "metadata": {
        "id": "ouZf-8BCKOqr"
      },
      "execution_count": null,
      "outputs": []
    },
    {
      "cell_type": "code",
      "source": [
        "fruit_to_color # the previous kiwi color was overwitten"
      ],
      "metadata": {
        "id": "FZbrgskYKbpy"
      },
      "execution_count": null,
      "outputs": []
    },
    {
      "cell_type": "code",
      "source": [
        "fruit_to_color['🥝']"
      ],
      "metadata": {
        "id": "n-_JBHOkKSxm"
      },
      "execution_count": null,
      "outputs": []
    },
    {
      "cell_type": "code",
      "source": [
        "# Set the value back to green\n",
        "fruit_to_color['🥝'] = 'green'"
      ],
      "metadata": {
        "id": "IsmK5MgjKlPs"
      },
      "execution_count": null,
      "outputs": []
    },
    {
      "cell_type": "code",
      "source": [
        "fruit_to_color['🥝']"
      ],
      "metadata": {
        "id": "quQDJtS2KrAy"
      },
      "execution_count": null,
      "outputs": []
    },
    {
      "cell_type": "code",
      "source": [
        "# Add a new key-value pair\n",
        "fruit_to_color['🍊'] = 'orange'\n",
        "# print the updated dict\n",
        "fruit_to_color"
      ],
      "metadata": {
        "id": "iB5nOLPPKsr4"
      },
      "execution_count": null,
      "outputs": []
    },
    {
      "cell_type": "code",
      "source": [],
      "metadata": {
        "id": "r0-FkeGpbcQW"
      },
      "execution_count": null,
      "outputs": []
    },
    {
      "cell_type": "code",
      "source": [],
      "metadata": {
        "id": "YmNhKj2_bcNv"
      },
      "execution_count": null,
      "outputs": []
    },
    {
      "cell_type": "code",
      "source": [],
      "metadata": {
        "id": "W4Cyqb_GbcKq"
      },
      "execution_count": null,
      "outputs": []
    },
    {
      "cell_type": "markdown",
      "source": [
        "# Example: the reverse complement of a sequence"
      ],
      "metadata": {
        "id": "nsSbde-2qWKI"
      }
    },
    {
      "cell_type": "code",
      "source": [],
      "metadata": {
        "id": "Y-PpDUBBj9rL"
      },
      "execution_count": null,
      "outputs": []
    },
    {
      "cell_type": "markdown",
      "source": [
        "## the reverse function"
      ],
      "metadata": {
        "id": "wPIC2T9bQPsq"
      }
    },
    {
      "cell_type": "code",
      "source": [
        "### Define the function:\n",
        "def reverse(dna_sequence):\n",
        "    # Generate the reverse sequence\n",
        "    reverse_sequence = ''\n",
        "    for nucleotide in dna_sequence:\n",
        "        reverse_sequence = nucleotide + reverse_sequence\n",
        "\n",
        "    return reverse_sequence"
      ],
      "metadata": {
        "id": "v9fGwgnimLz5"
      },
      "execution_count": null,
      "outputs": []
    },
    {
      "cell_type": "code",
      "source": [
        "### Call the reverese function:\n",
        "seq = \"ATGTCAC\"\n",
        "result = reverse(seq)\n",
        "print(result)"
      ],
      "metadata": {
        "id": "pGYiLzykjTw8"
      },
      "execution_count": null,
      "outputs": []
    },
    {
      "cell_type": "code",
      "source": [
        "# @title run this cell to visualize the flow of the above code\n",
        "example_code = \"\"\"### Define the function:\n",
        "def reverse(dna_sequence):\n",
        "    # Generate the complement sequence\n",
        "    reverse_sequence = ''\n",
        "    for nucleotide in dna_sequence:\n",
        "        reverse_sequence = nucleotide + reverse_sequence\n",
        "\n",
        "    return reverse_sequence\n",
        "\n",
        "### Example usage:\n",
        "seq = \"ATGTCAC\"\n",
        "result = reverse(seq)\n",
        "print(result)\n",
        "\"\"\"\n",
        "display_url(generate_pythontutor_url(example_code),height = 480)"
      ],
      "metadata": {
        "cellView": "form",
        "id": "2UeGxBndjTuV"
      },
      "execution_count": null,
      "outputs": []
    },
    {
      "cell_type": "code",
      "source": [],
      "metadata": {
        "id": "btaI_CqXppfz"
      },
      "execution_count": null,
      "outputs": []
    },
    {
      "cell_type": "markdown",
      "source": [
        "## the complement function"
      ],
      "metadata": {
        "id": "Z9fXNwD5QYJg"
      }
    },
    {
      "cell_type": "code",
      "source": [
        "### Define the function:\n",
        "def complement(dna_sequence):\n",
        "    # Dictionary to map each nucleotide to its complement\n",
        "    complement = {'A': 'T', 'T': 'A', 'C': 'G', 'G': 'C'}\n",
        "\n",
        "    # Generate the complement sequence\n",
        "    complement_sequence = ''\n",
        "    for nucleotide in dna_sequence:\n",
        "        complement_nucleotide = complement[nucleotide]\n",
        "        complement_sequence += complement_nucleotide\n",
        "\n",
        "    return complement_sequence"
      ],
      "metadata": {
        "id": "Lw29FyVEppcr"
      },
      "execution_count": null,
      "outputs": []
    },
    {
      "cell_type": "code",
      "source": [
        "### Call the complement function:\n",
        "seq = \"ATGTCAC\"\n",
        "result = complement(seq)\n",
        "print(result)"
      ],
      "metadata": {
        "id": "1q4MEOfjppU6"
      },
      "execution_count": null,
      "outputs": []
    },
    {
      "cell_type": "code",
      "source": [
        "# @title run this cell to visualize the flow of the above code\n",
        "example_code = \"\"\"### Define the function:\n",
        "def complement(dna_sequence):\n",
        "    # Dictionary to map each nucleotide to its complement\n",
        "    complement = {'A': 'T', 'T': 'A', 'C': 'G', 'G': 'C'}\n",
        "\n",
        "    # Generate the complement sequence\n",
        "    complement_sequence = ''\n",
        "    for nucleotide in dna_sequence:\n",
        "        complement_nucleotide = complement[nucleotide]\n",
        "        complement_sequence += complement_nucleotide\n",
        "\n",
        "    return complement_sequence\n",
        "\n",
        "### Example usage:\n",
        "seq = \"ATGTCAC\"\n",
        "result = complement(seq)\n",
        "print(result)\n",
        "\"\"\"\n",
        "display_url(generate_pythontutor_url(example_code),height = 580)"
      ],
      "metadata": {
        "cellView": "form",
        "id": "DCiEoBr9jTpI"
      },
      "execution_count": null,
      "outputs": []
    },
    {
      "cell_type": "code",
      "source": [
        "# Get the reverse complement of the sequence\n",
        "seq = \"ATGTCAC\"\n",
        "result = complement( reverse(seq) )\n",
        "print(result)"
      ],
      "metadata": {
        "id": "85syyfSnjTd7"
      },
      "execution_count": null,
      "outputs": []
    },
    {
      "cell_type": "code",
      "source": [],
      "metadata": {
        "id": "oLTlgoVttl1q"
      },
      "execution_count": null,
      "outputs": []
    },
    {
      "cell_type": "code",
      "source": [
        "# @title for fun: visualize the flow of your own code (click on play and type any code)\n",
        "\n",
        "\n",
        "example_code = \"\"\"## You can edit this:\n",
        "print('hello')\n",
        "x=3\n",
        "if x==0:\n",
        "  print('cannot divide by zero!')\n",
        "else:\n",
        "  print(1/x)\n",
        "\"\"\"\n",
        "\n",
        "\n",
        "# Create a text area for inputting code\n",
        "code_input = widgets.Textarea(\n",
        "    value=example_code,\n",
        "    placeholder='Paste your Python code here...',\n",
        "    description='Code:',\n",
        "    layout=widgets.Layout(width='50%', height='280px')\n",
        ")\n",
        "\n",
        "# Create a button to generate the Python Tutor URL and iframe\n",
        "button = widgets.Button(description=\"Execute step by step\")\n",
        "\n",
        "# Attach the function to the button click event\n",
        "button.on_click(on_button_click)\n",
        "\n",
        "# Display the text area and button\n",
        "display(code_input, button)\n"
      ],
      "metadata": {
        "cellView": "form",
        "id": "ge2dhTF9Nn0f"
      },
      "execution_count": null,
      "outputs": []
    },
    {
      "cell_type": "code",
      "source": [],
      "metadata": {
        "id": "ATtscVO4VZzP"
      },
      "execution_count": null,
      "outputs": []
    }
  ]
}
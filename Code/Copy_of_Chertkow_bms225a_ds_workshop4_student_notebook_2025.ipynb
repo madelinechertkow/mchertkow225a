{
  "nbformat": 4,
  "nbformat_minor": 0,
  "metadata": {
    "colab": {
      "provenance": [],
      "toc_visible": true,
      "collapsed_sections": [
        "N2Qm2qKabSwM",
        "QQumCM668Tue"
      ],
      "include_colab_link": true
    },
    "kernelspec": {
      "name": "python3",
      "display_name": "Python 3"
    },
    "language_info": {
      "name": "python"
    }
  },
  "cells": [
    {
      "cell_type": "markdown",
      "metadata": {
        "id": "view-in-github",
        "colab_type": "text"
      },
      "source": [
        "<a href=\"https://colab.research.google.com/github/madelinechertkow/mchertkow225a/blob/main/Code/Copy_of_Chertkow_bms225a_ds_workshop4_student_notebook_2025.ipynb\" target=\"_parent\"><img src=\"https://colab.research.google.com/assets/colab-badge.svg\" alt=\"Open In Colab\"/></a>"
      ]
    },
    {
      "cell_type": "markdown",
      "source": [
        "### Setup"
      ],
      "metadata": {
        "id": "N2Qm2qKabSwM"
      }
    },
    {
      "cell_type": "code",
      "source": [
        "# install scanpy with additional dependences\n",
        "# leiden for clustering, harmony for batch correction and skmisc which is needed for HVG selection\n",
        "!pip install --quiet 'scanpy[leiden,harmony,skmisc]'"
      ],
      "metadata": {
        "id": "RRm6sIQWYjqw"
      },
      "execution_count": null,
      "outputs": []
    },
    {
      "cell_type": "code",
      "execution_count": null,
      "metadata": {
        "id": "X6XPqbwolXhs"
      },
      "outputs": [],
      "source": [
        "# @title This re-runs workshop3 code and saves the corresponding data in the BMS225A folder\n",
        "################# THIS IS NOT PART OF THE WORKFLOW ##################\n",
        "import os\n",
        "import warnings\n",
        "warnings.filterwarnings(\"ignore\")\n",
        "\n",
        "if not os.path.exists('/content/blood_RNA.h5ad'):\n",
        "  # downloading the data from the paper takes ~1min\n",
        "  !wget -O blood_RNA.h5ad --header=\"User-Agent: Mozilla/5.0\" \"https://figshare.com/ndownloader/files/38849385?private_link=8aaa376913da23ae0def\" > /dev/null 2>&1\n",
        "\n",
        "\n",
        "if not os.path.exists('./BMS225A/Workshop3/processed_data/blood_RNA_BMS225a_single_batch.h5ad'):\n",
        "\n",
        "  !mkdir -p ./BMS225A/Workshop3/processed_data\n",
        "  !mkdir -p ./BMS225A/Workshop3/raw_data\n",
        "  # -- create the raw data by removing all processed data information from the author's file\n",
        "  import scanpy as sc\n",
        "  # load the single cell RNA seq dataset from the h5ad file\n",
        "  adata_processed = sc.read_h5ad('blood_RNA.h5ad') # AnnData object\n",
        "  X_raw_counts = adata_processed.layers['counts']\n",
        "  # the var dataframe\n",
        "  raw_var_df = adata_processed.raw.var.copy()\n",
        "  for i in raw_var_df.columns:\n",
        "    del raw_var_df[i]\n",
        "  raw_var_df['gene_name'] = raw_var_df.index\n",
        "  # the obs dataframe\n",
        "  raw_obs_df = adata_processed.obs[['LIBRARY',\t'CoLabs_patient',\t'condition']]\n",
        "  raw_obs_df.columns = ['LIBRARY_ID', 'patient_id', 'condition']\n",
        "  # create the anndata object\n",
        "  adata = sc.AnnData(X = X_raw_counts, var=raw_var_df, obs=raw_obs_df)\n",
        "  adata.write_h5ad('./BMS225A/Workshop3/raw_data/blood_RNA_raw_counts.h5ad')\n",
        "  adata=adata[ adata.obs['LIBRARY_ID'] == 'XAUT1-POOL-SCG12']\n",
        "  adata.write_h5ad('./BMS225A/Workshop3/raw_data/blood_RNA_raw_counts_SCG12.h5ad')\n",
        "  del adata_processed # delete the processed data\n",
        "\n",
        "  ################################### Workshop 3 ########################################################\n",
        "  # adata = sc.read_h5ad('./BMS225A/Workshop3/raw_data/blood_RNA_raw_counts_SCG12.h5ad') # load the AnnData object from the h5ad file\n",
        "  # QC and doublet detection\n",
        "  adata.var[\"mt\"] = adata.var_names.str.startswith(\"MT-\") # mitochondrial genes, \"MT-\" for human, \"Mt-\" for mouse\n",
        "  sc.pp.calculate_qc_metrics(adata, qc_vars=[\"mt\"], inplace=True, log1p=True, percent_top = None) # calculate QC metrics\n",
        "  sc.pp.filter_genes(adata,min_cells=5) #filter genes\n",
        "  adata = adata[ adata.obs['log1p_total_counts']> 6.5 ] # filter cells based on counts\n",
        "  adata = adata[ adata.obs['pct_counts_mt']< 12.5 ] # filter cells based on mito percentage\n",
        "  sc.pp.scrublet(adata) # doublet detection with scrublet\n",
        "  adata = adata[ adata.obs['predicted_doublet'] == False ] # filter out detected doublets\n",
        "\n",
        "  # normalization and log-transformation\n",
        "  adata.layers[\"counts\"] = adata.X.copy() # saving count data to a new layer, before we proceed with normalization\n",
        "  sc.pp.normalize_total(adata,target_sum=10000) # Normalizing to 10K total counts (CP10k)\n",
        "  sc.pp.log1p(adata) # Logarithmize the data\n",
        "  adata.layers['log1p'] = adata.X.copy() # save the log1p normalized counts to a new layer\n",
        "\n",
        "  # highly variable gene selection\n",
        "  sc.pp.highly_variable_genes(adata, n_top_genes = 2000, flavor='seurat_v3', layer='counts')\n",
        "\n",
        "  # dimensionality reduction (PCA)\n",
        "  sc.pp.scale(adata,zero_center=False) # scale each gene to unit variance (for pca only)\n",
        "  sc.tl.pca(adata, n_comps=50) # specify number of PCs (default is 50)\n",
        "\n",
        "  # knn graph, umap and leiden\n",
        "  sc.pp.neighbors(adata, use_rep='X_pca', n_neighbors=15, random_state=42)\n",
        "  sc.tl.umap(adata, min_dist=0.5, spread=1.0)\n",
        "  sc.tl.leiden(adata, resolution=0.1,key_added='leiden')\n",
        "  # annotate the clusters (code from workshop 3)\n",
        "  clusters_to_labels = {\n",
        "      '0':'T cells',\n",
        "      '1':'Myeloid',\n",
        "      '2':'NK cells',\n",
        "      '3':'B cells'\n",
        "  }\n",
        "  # use the above dict to create a new column in obs with cells labels (we call it celltype here)\n",
        "  adata.obs['celltype'] = adata.obs['leiden'].map(clusters_to_labels)\n",
        "  !rm blood_RNA.h5ad\n",
        "  adata.write_h5ad('./BMS225A/Workshop3/processed_data/blood_RNA_BMS225a_single_batch.h5ad')\n",
        "\n"
      ]
    },
    {
      "cell_type": "markdown",
      "source": [
        "# Workshop 4"
      ],
      "metadata": {
        "id": "7J0M40HJFBHK"
      }
    },
    {
      "cell_type": "code",
      "source": [
        "import pandas as pd\n",
        "import scanpy as sc\n",
        "\n",
        "import matplotlib.pyplot as plt\n",
        "import seaborn as sns"
      ],
      "metadata": {
        "id": "68KPM4oF2g-v"
      },
      "execution_count": null,
      "outputs": []
    },
    {
      "cell_type": "code",
      "source": [
        "### Settings ###\n",
        "\n",
        "# (optional) Show more columns in output\n",
        "pd.set_option('display.max_columns', 50)\n",
        "\n",
        "# (optional) Set parameters for the figures // sc.settings.set_figure_params?\n",
        "sc.settings.set_figure_params(dpi=80,fontsize=16, facecolor=\"white\",figsize=(8,6),color_map='viridis')\n",
        "\n",
        "import matplotlib as mpl\n",
        "mpl.rcParams['axes.grid'] = False # turn off grids\n",
        "\n",
        "# (optional) Suppress all warnings -- not recommended when working on your research projects!\n",
        "import warnings\n",
        "warnings.filterwarnings(\"ignore\")\n",
        "\n",
        "# print out the package versions\n",
        "print('scanpy version:', sc.__version__)"
      ],
      "metadata": {
        "id": "DmFv2nvd2g-v"
      },
      "execution_count": null,
      "outputs": []
    },
    {
      "cell_type": "markdown",
      "source": [
        "# PBMC scanpy plotting tutorial\n",
        "See also: https://scanpy.readthedocs.io/en/stable/tutorials/plotting/core.html\n",
        "\n",
        "We will be using a PBMC (Peripheral Blood Mononuclear Cells) dataset from Scanpy for visualization and differential expression analysis.\n",
        "This section loads the reduced PBMC dataset and prepares it for further analysis.\n"
      ],
      "metadata": {
        "id": "1m6Pru7WUFa1"
      }
    },
    {
      "cell_type": "code",
      "source": [
        "# @title Load tutorial pbmc data\n",
        "pbmc = sc.datasets.pbmc68k_reduced().raw.to_adata()\n",
        "pbmc.layers['log1p'] = pbmc.X\n",
        "\n",
        "# compute clusters using the leiden method and store the results with the name `clusters`\n",
        "sc.tl.leiden(\n",
        "    pbmc,\n",
        "    key_added=\"clusters\",\n",
        "    resolution=0.5,\n",
        "    n_iterations=2,\n",
        "    flavor=\"igraph\",\n",
        "    directed=False,\n",
        ")\n",
        "\n",
        "## annotate\n",
        "# create a dictionary to map cluster to annotation label\n",
        "cluster2annotation = {\n",
        "    \"0\": \"Monocytes\",\n",
        "    \"1\": \"NK\",\n",
        "    \"2\": \"T-cell\",\n",
        "    \"3\": \"Dendritic\",\n",
        "    \"4\": \"Dendritic\",\n",
        "    \"5\": \"Plasma\",\n",
        "    \"6\": \"B-cell\",\n",
        "    \"7\": \"Dendritic\",\n",
        "    \"8\": \"Other\",\n",
        "}\n",
        "\n",
        "# add a new `.obs` column called `cell type` by mapping clusters to annotation using pandas `map` function\n",
        "pbmc.obs[\"cell type\"] = pbmc.obs[\"clusters\"].map(cluster2annotation).astype(\"category\")"
      ],
      "metadata": {
        "id": "ERRgO8WoH_q0",
        "cellView": "form"
      },
      "execution_count": null,
      "outputs": []
    },
    {
      "cell_type": "code",
      "source": [
        "# We will work with this dataset in this section.\n",
        "# Preview the pbmc dataset with the annotations\n",
        "pbmc"
      ],
      "metadata": {
        "id": "I7WykzIvUhRq"
      },
      "execution_count": null,
      "outputs": []
    },
    {
      "cell_type": "markdown",
      "source": [
        "## Differential expression\n",
        "\n",
        "We will now perform differential expression analysis using the Wilcoxon rank-sum test.\n",
        "We specify the 'cell type' column for groupings and 'log1p' for the expression values."
      ],
      "metadata": {
        "id": "03YC81z5Idl-"
      }
    },
    {
      "cell_type": "code",
      "source": [
        "# Perform differential expression analysis\n",
        "sc.tl.rank_genes_groups(pbmc,\n",
        "                        groupby='cell type',\n",
        "                        method='wilcoxon', # default is t-test, other tests also available\n",
        "                        layer='log1p'\n",
        "                        )"
      ],
      "metadata": {
        "id": "QeZ9DomDIftD"
      },
      "execution_count": null,
      "outputs": []
    },
    {
      "cell_type": "markdown",
      "source": [
        "## DE plots"
      ],
      "metadata": {
        "id": "6hwBg4fnFd2a"
      }
    },
    {
      "cell_type": "markdown",
      "source": [
        "### logFC with dot plot\n",
        "A dot plot visualization to see the log fold changes for the top differentially expressed genes.\n"
      ],
      "metadata": {
        "id": "3Lp9vqcNazPl"
      }
    },
    {
      "cell_type": "code",
      "source": [
        "# Generate a dot plot for the top 6 genes (log fold change)\n",
        "# we can change the colorbar range by setting the vmin, vmax parameters\n",
        "# set the colormap with cmap, and filter genes with the min_logfoldchange parameter\n",
        "sc.pl.rank_genes_groups_dotplot(pbmc,\n",
        "                                n_genes=6,\n",
        "                                values_to_plot='logfoldchanges',\n",
        "                                dot_max=0.7\n",
        ")"
      ],
      "metadata": {
        "id": "fPVX6f9HI8CI"
      },
      "execution_count": null,
      "outputs": []
    },
    {
      "cell_type": "code",
      "source": [
        "#Dot plot for specific cell types (NK, Monocytes, B-cells)\n",
        "sc.pl.rank_genes_groups_dotplot(pbmc,\n",
        "                                n_genes=6,\n",
        "                                min_logfoldchange=3,\n",
        "                                values_to_plot='logfoldchanges',\n",
        "                                vmax=5,\n",
        "                                vmin=-5,\n",
        "                                cmap='bwr',\n",
        "                                dot_max=0.7,\n",
        "\n",
        "                                groups=['NK','Monocytes','B-cell'],\n",
        ")"
      ],
      "metadata": {
        "id": "DAi7lHE1zBwg"
      },
      "execution_count": null,
      "outputs": []
    },
    {
      "cell_type": "markdown",
      "source": [
        "### DE matrix plot\n",
        "\n",
        "A matrix plot to visualize the expression of the top differentially expressed genes.\n",
        "This plot shows log1p transformed expression values."
      ],
      "metadata": {
        "id": "tVb8p81UbBsP"
      }
    },
    {
      "cell_type": "code",
      "source": [
        "# Generate a matrix plot of top 6 genes\n",
        "sc.pl.rank_genes_groups_matrixplot(pbmc,\n",
        "                                   n_genes=6,\n",
        "                                   min_logfoldchange=3,\n",
        "\n",
        "                                   layer=\"log1p\", # here we are going to plot log1p expression\n",
        ")"
      ],
      "metadata": {
        "id": "CXMMbtAiYJ80"
      },
      "execution_count": null,
      "outputs": []
    },
    {
      "cell_type": "code",
      "source": [
        "# matrixplot with scaled expression per gene (values from 0 to 1 for each column)\n",
        "sc.pl.rank_genes_groups_matrixplot(pbmc,\n",
        "                                   n_genes=6,\n",
        "                                   min_logfoldchange=3,\n",
        "                                   layer=\"log1p\",\n",
        "\n",
        "                                   standard_scale='var', #normalize 0 to 1\n",
        "                                   colorbar_title=\"max-scaled \\n expression\",\n",
        ")"
      ],
      "metadata": {
        "id": "xpZDxzXNGUcv"
      },
      "execution_count": null,
      "outputs": []
    },
    {
      "cell_type": "code",
      "source": [
        "# matrixplot with scaled expression per gene (zero mean and unit variance, z-score)\n",
        "\n",
        "# 1. scale and store results in layer (z-score). Need to do this only once / results will be stored in a new layer\n",
        "pbmc.layers[\"scaled\"] = sc.pp.scale(pbmc, copy=True).X"
      ],
      "metadata": {
        "id": "uGXrApp04l6L"
      },
      "execution_count": null,
      "outputs": []
    },
    {
      "cell_type": "code",
      "source": [
        "# 2. matrixplot with z-scores\n",
        "sc.pl.rank_genes_groups_matrixplot(pbmc,\n",
        "                                   n_genes=6,\n",
        "                                   min_logfoldchange=3,\n",
        "\n",
        "                                   vmax=3,\n",
        "                                   vmin=-3,\n",
        "                                   cmap='bwr',\n",
        "                                   layer=\"scaled\",\n",
        "                                   colorbar_title=\"mean z-score\",\n",
        ")"
      ],
      "metadata": {
        "id": "1YBz2tcn35HO"
      },
      "execution_count": null,
      "outputs": []
    },
    {
      "cell_type": "markdown",
      "source": [
        "### DE violin plot\n",
        "\n",
        "A violin plot for the top DE genes showing their expression across cell types. The plot uses log1p transformed expression values and colors the violins according to the median expression.\n"
      ],
      "metadata": {
        "id": "gKO5Ql3Dcfsy"
      }
    },
    {
      "cell_type": "code",
      "source": [
        "# Generate violin plot for top 10 genes\n",
        "sc.pl.rank_genes_groups_stacked_violin(pbmc,\n",
        "                                       n_genes=10,\n",
        "                                       min_logfoldchange=3,\n",
        "\n",
        "                                       dendrogram=False,\n",
        "                                       cmap=\"viridis_r\",\n",
        "                                       layer=\"log1p\",\n",
        "                                       colorbar_title=\"median \\n expression\",\n",
        "                                       figsize=(20,3)\n",
        "                                       )"
      ],
      "metadata": {
        "id": "2JjOVdlA35Eq"
      },
      "execution_count": null,
      "outputs": []
    },
    {
      "cell_type": "markdown",
      "source": [
        "### Heatmap (all cells)\n",
        "\n",
        "A heatmap for visualizing gene expression levels of top differentially expressed genes across all cells.\n"
      ],
      "metadata": {
        "id": "eVhSjHk_dB7C"
      }
    },
    {
      "cell_type": "code",
      "source": [
        "sc.pl.rank_genes_groups_heatmap(\n",
        "    pbmc,\n",
        "    n_genes=6,\n",
        "    min_logfoldchange=3,\n",
        "\n",
        "    layer=\"log1p\",\n",
        "    # standard_scale='var',\n",
        "    figsize=(14, 7),\n",
        ")"
      ],
      "metadata": {
        "id": "M4Qjf3Cu34_M"
      },
      "execution_count": null,
      "outputs": []
    },
    {
      "cell_type": "code",
      "source": [
        "# (optional) swap the axes, include more genes, hide their names, and plot z-scores\n",
        "sc.pl.rank_genes_groups_heatmap(\n",
        "    pbmc,\n",
        "    n_genes=15,\n",
        "    min_logfoldchange=3,\n",
        "\n",
        "    swap_axes=True,\n",
        "    show_gene_labels=False,\n",
        "    vmin=-3,\n",
        "    vmax=3,\n",
        "    cmap=\"bwr\",\n",
        "    layer=\"scaled\",\n",
        ")"
      ],
      "metadata": {
        "id": "VXVZ0cDE348T"
      },
      "execution_count": null,
      "outputs": []
    },
    {
      "cell_type": "markdown",
      "source": [
        "### Tracksplot (all cells)"
      ],
      "metadata": {
        "id": "-3kaeeXadtpw"
      }
    },
    {
      "cell_type": "code",
      "source": [
        "sc.pl.rank_genes_groups_tracksplot(pbmc,\n",
        "                                   n_genes=3,\n",
        "                                   min_logfoldchange=3,\n",
        "\n",
        "                                   layer=\"log1p\",\n",
        "                                   figsize=(15, 10),\n",
        ")"
      ],
      "metadata": {
        "id": "Bmx8kBm38qfC"
      },
      "execution_count": null,
      "outputs": []
    },
    {
      "cell_type": "markdown",
      "source": [
        "## Correlation matrix"
      ],
      "metadata": {
        "id": "LCwgdQ6gz4jp"
      }
    },
    {
      "cell_type": "code",
      "source": [
        "# Generate a correlation matrix of expression values for cell types\n",
        "sc.pl.correlation_matrix(pbmc,\n",
        "                         groupby='cell type',\n",
        "                         cmap='coolwarm',\n",
        "                         figsize=(5, 3.5),\n",
        ")"
      ],
      "metadata": {
        "id": "f8ZRNLfs-MOC"
      },
      "execution_count": null,
      "outputs": []
    },
    {
      "cell_type": "markdown",
      "source": [
        "## Gene expression plots"
      ],
      "metadata": {
        "id": "2SvXzKsdgR8X"
      }
    },
    {
      "cell_type": "markdown",
      "source": [
        "### umap plot"
      ],
      "metadata": {
        "id": "TI62APfevQJZ"
      }
    },
    {
      "cell_type": "code",
      "source": [
        "sc.pl.umap(pbmc,\n",
        "           color='cell type')"
      ],
      "metadata": {
        "id": "nMp_tt_gi7nA"
      },
      "execution_count": null,
      "outputs": []
    },
    {
      "cell_type": "code",
      "source": [
        "# UMAP plot highlighting expression of gene CD79A\n",
        "sc.pl.umap(pbmc,\n",
        "           color='CD79A',\n",
        "          #  frameon=False,\n",
        "           vmax=\"p99\",\n",
        "           layer='log1p')"
      ],
      "metadata": {
        "id": "Az2yhueuidIL"
      },
      "execution_count": null,
      "outputs": []
    },
    {
      "cell_type": "code",
      "source": [
        "# Multiple UMAP plots for several genes and cell types\n",
        "color_vars = ['CD79A', 'MS4A1', 'CD3D', 'GNLY', 'CST3', 'cell type']\n",
        "\n",
        "sc.set_figure_params(figsize=(3,3))\n",
        "\n",
        "sc.pl.umap(pbmc, color=color_vars, s=50, frameon=False, ncols=3, vmax=\"p99\",layer='log1p',)"
      ],
      "metadata": {
        "id": "By89L1KSnspS"
      },
      "execution_count": null,
      "outputs": []
    },
    {
      "cell_type": "markdown",
      "source": [
        "### dot plot\n",
        "Dot plot for various genes across cell types."
      ],
      "metadata": {
        "id": "ylKNAbeOn3Nc"
      }
    },
    {
      "cell_type": "code",
      "source": [
        "sc.pl.dotplot(pbmc,\n",
        "              var_names = [\"MS4A1\", \"CD3D\",'CST3','FTL','CD74','S100A4'], # arbitrary list of genes (will trhow error if genes are not in adata.var_names)\n",
        "              groupby = \"cell type\",\n",
        "              dendrogram=True,\n",
        "              layer='log1p',\n",
        "              dot_max=0.7,\n",
        "              figsize=(6,3),\n",
        "              )"
      ],
      "metadata": {
        "id": "TWU-dyKyfq0F"
      },
      "execution_count": null,
      "outputs": []
    },
    {
      "cell_type": "code",
      "source": [],
      "metadata": {
        "id": "_ZJTGKHCzkEf"
      },
      "execution_count": null,
      "outputs": []
    },
    {
      "cell_type": "code",
      "source": [
        "# Dot plot with scaled expression values (z-score)\n",
        "sc.pl.dotplot(pbmc,\n",
        "              var_names = [\"MS4A1\", \"CD3D\",'CST3','FTL','CD74','S100A4'],\n",
        "              groupby = \"cell type\",\n",
        "              dendrogram=True,\n",
        "              dot_max=0.7,\n",
        "              figsize=(6,3),\n",
        "\n",
        "              layer='scaled',\n",
        "              vmin=-2,\n",
        "              vmax=2,\n",
        "              cmap='bwr',\n",
        "              colorbar_title=\"mean z-score\",\n",
        "              )"
      ],
      "metadata": {
        "id": "vp2Gww6hpZf-"
      },
      "execution_count": null,
      "outputs": []
    },
    {
      "cell_type": "markdown",
      "source": [
        "### violin plot"
      ],
      "metadata": {
        "id": "HD7eH4kbvcmX"
      }
    },
    {
      "cell_type": "code",
      "source": [
        "# Violin plot of selected genes across cell types, with both log1p and scaled values.\n",
        "\n",
        "sc.set_figure_params(figsize=(4,3))\n",
        "sc.pl.violin(pbmc,\n",
        "             keys = [\"MS4A1\",'FTL','CD74','S100A4'],\n",
        "             groupby = \"cell type\",\n",
        "             rotation=90,\n",
        "             layer='log1p',\n",
        "             # stripplot=False,  # remove the internal dots\n",
        "             # inner=\"box\",  # adds a boxplot inside violins\n",
        "             )"
      ],
      "metadata": {
        "id": "I0fTfWIQq8AN"
      },
      "execution_count": null,
      "outputs": []
    },
    {
      "cell_type": "code",
      "source": [
        "# Violin plot with scaled expression instead of log1p.\n",
        "sc.pl.violin(pbmc,\n",
        "             keys = [\"MS4A1\",'FTL','CD74','S100A4'],\n",
        "             groupby = \"cell type\",\n",
        "             rotation=90,\n",
        "             layer='scaled'\n",
        "             )"
      ],
      "metadata": {
        "id": "gUZth9E3q79T"
      },
      "execution_count": null,
      "outputs": []
    },
    {
      "cell_type": "code",
      "source": [
        "# Violin plot for the expression of a single gene across cell types\n",
        "# followed by UMAP plot highlighting the expression of that gene\n",
        "\n",
        "GENE_NAME='CD3D'\n",
        "\n",
        "sc.set_figure_params(figsize=(5,4))\n",
        "sc.pl.violin(pbmc,\n",
        "            keys = GENE_NAME,\n",
        "            groupby = \"cell type\",\n",
        "            rotation=90,\n",
        "            layer='log1p',\n",
        "            stripplot=False,  # remove the internal dots\n",
        "            inner=\"box\",  # adds a boxplot inside violins\n",
        "            )\n",
        "\n",
        "sc.set_figure_params(figsize=(6,4))\n",
        "sc.pl.umap(pbmc,\n",
        "            color=GENE_NAME,\n",
        "            vmax=\"p99\",\n",
        "            layer='log1p',\n",
        "            s=100\n",
        "            )"
      ],
      "metadata": {
        "id": "_0wBqM8Sq726"
      },
      "execution_count": null,
      "outputs": []
    },
    {
      "cell_type": "markdown",
      "source": [
        "# 🔺 Plots for our dataset (Mennillo et al.)"
      ],
      "metadata": {
        "id": "E2utdGx_0OPz"
      }
    },
    {
      "cell_type": "code",
      "source": [
        "# set figure parameters\n",
        "sc.settings.set_figure_params(dpi=80,fontsize=16, facecolor=\"white\",figsize=(8,6),color_map='viridis')"
      ],
      "metadata": {
        "id": "0Kl2frN9q8Pi"
      },
      "execution_count": null,
      "outputs": []
    },
    {
      "cell_type": "code",
      "source": [
        "## [🔺] Load the data (to make sure everyone starts with the same dataset we will load the one preprocessed during setup)\n",
        "# Look for the 'blood_RNA_BMS225a_single_batch.h5ad' file in the BMS225A/processed_data folder\n",
        "\n",
        "\n",
        "\n",
        "\n",
        "\n",
        "\n",
        "\n",
        "\n",
        "\n"
      ],
      "metadata": {
        "id": "TdnxhLOj0NVa"
      },
      "execution_count": null,
      "outputs": []
    },
    {
      "cell_type": "code",
      "source": [
        "## [🔺] umap plot. Lets color by cell type. We can use the following parameters to make it look better:\n",
        "# size,legend_loc,legend_fontoutline,legend_fontsize\n",
        "\n",
        "\n",
        "\n",
        "\n",
        "\n",
        "\n",
        "\n",
        "\n",
        "\n"
      ],
      "metadata": {
        "id": "Onju5PQI0NOj"
      },
      "execution_count": null,
      "outputs": []
    },
    {
      "cell_type": "code",
      "source": [
        "## [🔺] umap plot version 2. Use the palette parameter to change the celltype colors (see some of the available palette choices below)\n",
        "\n",
        "\n",
        "\n",
        "\n",
        "\n",
        "\n",
        "\n",
        "\n",
        "\n"
      ],
      "metadata": {
        "id": "B9wc5zWPWBlJ"
      },
      "execution_count": null,
      "outputs": []
    },
    {
      "cell_type": "markdown",
      "source": [
        "Some of the color palettes you can choose from\n",
        "\n",
        "![image.png](data:image/png;base64,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)"
      ],
      "metadata": {
        "id": "u92g3gL43lUz"
      }
    },
    {
      "cell_type": "code",
      "source": [
        "## umap plot version 3. Manually update adata.uns['celltype_colors'] to choose any color you like (see available named colors below)\n",
        "adata.uns['celltype_colors'] = ['yellow','cyan','darkorange','lime']\n",
        "\n",
        "## [🔺] plot the final umap\n",
        "\n",
        "\n",
        "\n",
        "\n",
        "\n",
        "\n",
        "\n",
        "\n",
        "\n",
        "\n",
        "\n"
      ],
      "metadata": {
        "id": "jkUR_Am1WBho"
      },
      "execution_count": null,
      "outputs": []
    },
    {
      "cell_type": "markdown",
      "source": [
        "**matplotlib named colors:**\n",
        "\n",
        "https://matplotlib.org/stable/gallery/color/named_colors.html\n",
        "\n",
        "![image.png](data:image/png;base64,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)"
      ],
      "metadata": {
        "id": "Eaa48wfG4eBI"
      }
    },
    {
      "cell_type": "markdown",
      "source": [
        "****"
      ],
      "metadata": {
        "id": "YQ6hUr0-78oF"
      }
    },
    {
      "cell_type": "code",
      "source": [
        "# Further customizing umap: an artistic version\n",
        "adata.uns['celltype_colors'] = ['dodgerblue','orange','firebrick','mediumseagreen']\n",
        "\n",
        "sc.pl.umap(\n",
        "      adata,\n",
        "      color=\"celltype\",\n",
        "      add_outline=True,\n",
        "      legend_loc=\"on data\",\n",
        "      legend_fontsize=25,\n",
        "      legend_fontoutline=5,\n",
        "      frameon=False,\n",
        "      title=\"clustering of cells\", # adding a plot title\n",
        "      size=120,\n",
        "  )"
      ],
      "metadata": {
        "id": "wkbOO-6_4eBK"
      },
      "execution_count": null,
      "outputs": []
    },
    {
      "cell_type": "markdown",
      "source": [
        "## 🔺 Differential Expression"
      ],
      "metadata": {
        "id": "LwXKlSYo81YR"
      }
    },
    {
      "cell_type": "code",
      "source": [
        "adata"
      ],
      "metadata": {
        "id": "aNNkmkxWAFAH"
      },
      "execution_count": null,
      "outputs": []
    },
    {
      "cell_type": "code",
      "source": [
        "## [🔺]  use sc.tl.rank_genes_groups(...) to perform differential expression analysis across cell types\n",
        "\n",
        "\n",
        "\n",
        "\n",
        "\n",
        "\n",
        "\n",
        "\n",
        "\n",
        "\n",
        "\n",
        "\n"
      ],
      "metadata": {
        "id": "iCbD6HzyY10L"
      },
      "execution_count": null,
      "outputs": []
    },
    {
      "cell_type": "code",
      "source": [],
      "metadata": {
        "id": "kzaY6ZdnY1xW"
      },
      "execution_count": null,
      "outputs": []
    },
    {
      "cell_type": "markdown",
      "source": [
        "### 🔺 logFC with dot plot"
      ],
      "metadata": {
        "id": "Owd5F3LM9Nq2"
      }
    },
    {
      "cell_type": "code",
      "source": [
        "# visualize logfold change with sc.pl.rank_genes_groups_dotplot\n",
        "\n",
        "# # command used in the pbmc tutorial\n",
        "# sc.pl.rank_genes_groups_dotplot(pbmc,\n",
        "#                                 n_genes=6,\n",
        "#                                 values_to_plot='logfoldchanges',\n",
        "#                                 min_logfoldchange=3,\n",
        "#                                 vmax=5,\n",
        "#                                 vmin=-5,\n",
        "#                                 cmap='bwr',\n",
        "#                                 dot_max=0.7\n",
        "# )\n",
        "\n",
        "# [🔺] adapt the above command for our dataset;\n",
        "# try selecting genes with larger log fold change\n",
        "\n",
        "\n",
        "\n",
        "\n",
        "\n",
        "\n",
        "\n",
        "\n",
        "\n",
        "\n",
        "\n",
        "\n",
        "\n"
      ],
      "metadata": {
        "id": "T-cOn4HC9Nq2"
      },
      "execution_count": null,
      "outputs": []
    },
    {
      "cell_type": "markdown",
      "source": [
        "### 🔺 DE matrix plot"
      ],
      "metadata": {
        "id": "kF28NCUS9Nq2"
      }
    },
    {
      "cell_type": "code",
      "source": [
        "# [🔺] Lets also visualize the results with sc.pl.rank_genes_groups_matrixplot.\n",
        "# Note: you can adapt the one we used in the pbmc tutorial. See also the reference guide\n",
        "\n",
        "\n",
        "\n",
        "\n",
        "\n",
        "\n",
        "\n",
        "\n",
        "\n",
        "\n",
        "\n",
        "\n",
        "\n",
        "\n"
      ],
      "metadata": {
        "id": "UO1BkcOt9Nq2"
      },
      "execution_count": null,
      "outputs": []
    },
    {
      "cell_type": "code",
      "source": [
        "# (❓) Does your matrixplot show the same genes (x-axis) as your dotplot?"
      ],
      "metadata": {
        "id": "YXWKNuj8EiXH"
      },
      "execution_count": null,
      "outputs": []
    },
    {
      "cell_type": "markdown",
      "source": [
        "### 🔺 Explore other plots"
      ],
      "metadata": {
        "id": "lvJW3vYZbNBX"
      }
    },
    {
      "cell_type": "code",
      "source": [
        "# Decide which other plots wou want to adapt from the pbmc tutorial and apply to this dataset."
      ],
      "metadata": {
        "id": "ZU2-yqiQbMcS"
      },
      "execution_count": null,
      "outputs": []
    },
    {
      "cell_type": "code",
      "source": [
        "## [🔺] plot 1\n",
        "\n",
        "\n",
        "\n",
        "\n",
        "\n",
        "\n",
        "\n",
        "\n",
        "\n",
        "# Why did you choose this plot?"
      ],
      "metadata": {
        "id": "o3RhBezcbMZR"
      },
      "execution_count": null,
      "outputs": []
    },
    {
      "cell_type": "code",
      "source": [
        "## [🔺] plot 2\n",
        "\n",
        "\n",
        "\n",
        "\n",
        "\n",
        "\n",
        "\n",
        "\n",
        "\n",
        "\n",
        "\n",
        "\n",
        "# Why did you choose this plot?"
      ],
      "metadata": {
        "id": "Aialk65kbMWc"
      },
      "execution_count": null,
      "outputs": []
    },
    {
      "cell_type": "markdown",
      "source": [
        "## 🔺 Density plot"
      ],
      "metadata": {
        "id": "PVDrBI6tcK-m"
      }
    },
    {
      "cell_type": "markdown",
      "source": [
        "We haven't seen this plot in an example so you have to rely on the documentation (reference guide)."
      ],
      "metadata": {
        "id": "7_QVCS7YfUTP"
      }
    },
    {
      "cell_type": "code",
      "source": [
        "## [🔺] compute umap density based on condition\n",
        "# The `sc.tl.embedding_density` function calculates the density of cells within the UMAP space grouped by a given labels (condition in this case).\n",
        "# See the reference guide for more info\n",
        "\n",
        "\n",
        "\n",
        "\n",
        "\n",
        "\n",
        "\n",
        "\n",
        "\n",
        "\n"
      ],
      "metadata": {
        "id": "t2jAU_dJcEbR"
      },
      "execution_count": null,
      "outputs": []
    },
    {
      "cell_type": "code",
      "source": [
        "# Checking the column names in the 'obs' attribute of the AnnData object to see the added column.\n",
        "adata.obs.columns"
      ],
      "metadata": {
        "id": "6V6p4T1OcEYP"
      },
      "execution_count": null,
      "outputs": []
    },
    {
      "cell_type": "code",
      "source": [
        "## [🔺] Plot the UMAP density for each condition. The 'key' refers to the computed density values based on the 'condition' group.\n",
        "\n",
        "\n",
        "\n",
        "\n",
        "\n",
        "\n",
        "\n",
        "\n",
        "\n"
      ],
      "metadata": {
        "id": "-HG8eeJOcEVZ"
      },
      "execution_count": null,
      "outputs": []
    },
    {
      "cell_type": "code",
      "source": [],
      "metadata": {
        "id": "ntmW4laNcjjn"
      },
      "execution_count": null,
      "outputs": []
    },
    {
      "cell_type": "code",
      "source": [
        "## [🔺] Now, compute the UMAP density based on another grouping, this time by 'patient_id' to see how cell density varies by patient.\n",
        "\n",
        "\n",
        "\n",
        "\n",
        "\n",
        "\n",
        "\n"
      ],
      "metadata": {
        "id": "ILEs93J1cESa"
      },
      "execution_count": null,
      "outputs": []
    },
    {
      "cell_type": "code",
      "source": [
        "## [🔺] Plot UMAP density, but this time grouped by 'patient_id'.\n",
        "## use the ncols parameter,and make the points larger because we have very few cells per patient (s parameter)\n",
        "\n",
        "\n",
        "\n",
        "\n",
        "\n",
        "\n",
        "\n",
        "\n"
      ],
      "metadata": {
        "id": "uGnGRXhhcqfq"
      },
      "execution_count": null,
      "outputs": []
    },
    {
      "cell_type": "code",
      "source": [],
      "metadata": {
        "id": "AH27nMwpc9EE"
      },
      "execution_count": null,
      "outputs": []
    },
    {
      "cell_type": "code",
      "source": [],
      "metadata": {
        "id": "ySTV_0xDc9Bi"
      },
      "execution_count": null,
      "outputs": []
    },
    {
      "cell_type": "code",
      "source": [],
      "metadata": {
        "id": "UsGthSqrc8-7"
      },
      "execution_count": null,
      "outputs": []
    },
    {
      "cell_type": "markdown",
      "source": [
        "# Extra"
      ],
      "metadata": {
        "id": "QQumCM668Tue"
      }
    },
    {
      "cell_type": "markdown",
      "source": [
        "## DE genes with pandas\n",
        "For custom plotting and further analysis, we can extract the differential expression results from the AnnData object. The `sc.get.rank_genes_groups_df` function extracts DE genes computed by `scanpy` and stores it in a pandas DataFrame.\n"
      ],
      "metadata": {
        "id": "_sFXoxhozCN9"
      }
    },
    {
      "cell_type": "code",
      "source": [
        "# We can set a p-value cutoff and a minimum log fold-change to filter genes.\n",
        "de_df = sc.get.rank_genes_groups_df(adata,group=None,pval_cutoff=1e-9,log2fc_min=4,)\n",
        "de_df"
      ],
      "metadata": {
        "id": "FXeCg-gOPIoH"
      },
      "execution_count": null,
      "outputs": []
    },
    {
      "cell_type": "code",
      "source": [
        "# Group the DE genes by their 'group' (which in this case is the cell type) and display the top 6 genes for each group.\n",
        "\n",
        "de_df.groupby('group').head(6)"
      ],
      "metadata": {
        "id": "6MUrfOqAWk7o"
      },
      "execution_count": null,
      "outputs": []
    },
    {
      "cell_type": "code",
      "source": [
        "# Now, select the top 20 DE genes for each group.\n",
        "de_df_top20 =  de_df.groupby('group').head(20)\n",
        "de_df_top20"
      ],
      "metadata": {
        "id": "dhBeD9sKPetu"
      },
      "execution_count": null,
      "outputs": []
    },
    {
      "cell_type": "markdown",
      "source": [
        "### annotating genes on plots"
      ],
      "metadata": {
        "id": "sH1-yRwiWTxI"
      }
    },
    {
      "cell_type": "code",
      "source": [
        "import seaborn as sns"
      ],
      "metadata": {
        "id": "NwWxIDg3QHMK"
      },
      "execution_count": null,
      "outputs": []
    },
    {
      "cell_type": "code",
      "source": [
        "x_col = 'logfoldchanges'\n",
        "y_col = 'scores'\n",
        "\n",
        "# Plot the DE genes using Seaborn's `relplot`.\n",
        "g = sns.relplot(data=de_df_top20,\n",
        "                x=x_col,\n",
        "                y=y_col,\n",
        "                hue = 'group',\n",
        "                kind='scatter',\n",
        "                height=5,\n",
        "                aspect=1,\n",
        "                s=50)\n",
        "\n",
        "sns.move_legend(g, 'upper right')\n",
        "\n",
        "#################################################\n",
        "# Annotate the top 3 genes per group on the plot.\n",
        "# We loop through the top genes and add their names as text labels next to their points on the plot.\n",
        "annotate_df = de_df_top20.groupby('group').head(3)\n",
        "for i in range(annotate_df.shape[0]):\n",
        "    g.ax.text(annotate_df[x_col].iloc[i],\n",
        "              annotate_df[y_col].iloc[i],\n",
        "              annotate_df['names'].iloc[i],\n",
        "              horizontalalignment='left',   # Align text to the left of the point\n",
        "              size='medium',                 # Set the size of the text\n",
        "              color='black',                # Set the color of the text\n",
        "              weight='regular',             # Set the weight of the text\n",
        "              family='monospace')"
      ],
      "metadata": {
        "id": "F8Y0RNfNQHJE"
      },
      "execution_count": null,
      "outputs": []
    },
    {
      "cell_type": "code",
      "source": [
        "# Install adjustText, a package that helps adjust overlapping annotations in plots. This is used to prevent the gene labels from overlapping.\n",
        "\n",
        "!pip install --quiet adjustText"
      ],
      "metadata": {
        "id": "l4SsKzBiVHoT"
      },
      "execution_count": null,
      "outputs": []
    },
    {
      "cell_type": "code",
      "source": [
        "from adjustText import adjust_text"
      ],
      "metadata": {
        "id": "LpFxNETJVE4c"
      },
      "execution_count": null,
      "outputs": []
    },
    {
      "cell_type": "code",
      "source": [
        "x_col = 'logfoldchanges'\n",
        "y_col = 'scores'\n",
        "\n",
        "\n",
        "g = sns.relplot(data=de_df_top20,\n",
        "                x=x_col,\n",
        "                y=y_col,\n",
        "                hue = 'group',\n",
        "                kind='scatter',\n",
        "                height=5,\n",
        "                aspect=1,\n",
        "                s=50)\n",
        "\n",
        "sns.move_legend(g, 'upper right')\n",
        "\n",
        "# Annotate the points with the gene names\n",
        "\n",
        "\n",
        "annotate_df = de_df.groupby('group').head(3)\n",
        "texts = [] #We store the text objects in a list called 'texts' for later adjustment.\n",
        "\n",
        "for i in range(annotate_df.shape[0]):\n",
        "    texts.append(\n",
        "        g.ax.text(annotate_df[x_col].iloc[i],\n",
        "              annotate_df[y_col].iloc[i],\n",
        "              annotate_df['names'].iloc[i],\n",
        "              horizontalalignment='left',   # Align text to the left of the point\n",
        "              size='medium',                 # Set the size of the text\n",
        "              color='black',                # Set the color of the text\n",
        "              weight='regular',             # Set the weight of the text\n",
        "              family='monospace')\n",
        "    )\n",
        "\n",
        "# Adjust the text annotations to avoid overlap, using `adjust_text`.\n",
        "# We also add lines (`arrowprops`) to indicate the corresponding points for labels that are moved far from their data points.\n",
        "_ = adjust_text(\n",
        "    texts,\n",
        "    expand=(1.5, 1.5),\n",
        "    arrowprops=dict(color=\"gray\", lw=1.5),\n",
        "    ax=g.ax,\n",
        ")"
      ],
      "metadata": {
        "id": "ky0BcZFVVE11"
      },
      "execution_count": null,
      "outputs": []
    },
    {
      "cell_type": "markdown",
      "source": [
        "## Advanced: Volcano plot / DE between 2 clusters\n",
        "\n",
        "This section performs differential expression (DE) analysis between two specific cell types or clusters.\n",
        "We use the 'rank_genes_groups' function to rank genes that are differentially expressed between 'B cells' and 'Myeloid' cells.\n"
      ],
      "metadata": {
        "id": "yeDUNfT1qnZm"
      }
    },
    {
      "cell_type": "code",
      "source": [
        "sc.tl.rank_genes_groups(adata,\n",
        "                        groupby='celltype',\n",
        "                        method='wilcoxon',\n",
        "                        layer='log1p',\n",
        "                        groups=['B cells'],  # The target group is 'B cells'.\n",
        "                        reference='Myeloid', # The reference group is 'Myeloid' cells.\n",
        "                        key_added='B_vs_Myeloid',  # Store the results under the key 'B_vs_Myeloid' for later retrieval.\n",
        "                        rankby_abs=True,     # Rank genes by the absolute test statistic (score).\n",
        "                        pts=True)            # Calculate the fraction of cells expressing each gene in the comparison.\n"
      ],
      "metadata": {
        "id": "GJFu_sZaL30X"
      },
      "execution_count": null,
      "outputs": []
    },
    {
      "cell_type": "code",
      "source": [
        "de_df = sc.get.rank_genes_groups_df(adata,group='B cells',pval_cutoff=1e-9,\n",
        "                                    key='B_vs_Myeloid')### notice that we specify the key here to retrieve the relevant DE genes\n",
        "de_df"
      ],
      "metadata": {
        "id": "jSBXJ5bmqSxb"
      },
      "execution_count": null,
      "outputs": []
    },
    {
      "cell_type": "code",
      "source": [
        "# Create a new column '-log_pval' (using the log fucntion from numpy) to store the negative log10-transformed adjusted p-values, which is useful for plotting (e.g., volcano plots).\n",
        "\n",
        "import numpy as np\n",
        "de_df['-log_pval'] = -np.log10(de_df['pvals_adj'])"
      ],
      "metadata": {
        "id": "xaGKy8jfY010"
      },
      "execution_count": null,
      "outputs": []
    },
    {
      "cell_type": "code",
      "source": [
        "import matplotlib.pyplot as plt\n",
        "import numpy as np\n",
        "\n",
        "logfoldchanges = de_df['logfoldchanges']\n",
        "pval = de_df['-log_pval']\n",
        "\n",
        "# Create the scatter plot\n",
        "plt.figure(figsize=(8, 6))\n",
        "g = plt.scatter(logfoldchanges, pval, c=logfoldchanges, cmap='coolwarm_r', vmin=-4, vmax=4)\n",
        "\n",
        "# Add labels and title\n",
        "plt.xlabel('Log Fold Change')\n",
        "plt.ylabel('-log10(p-value)')\n",
        "plt.title('Volcano Plot')\n",
        "\n",
        "# Add a colorbar\n",
        "plt.colorbar(g, label='Log Fold Change')\n",
        "\n",
        "# Set x-axis limits\n",
        "plt.xlim([-20, 20])\n",
        "\n",
        "# Set y-axis limits\n",
        "plt.ylim([0, 220])\n",
        "\n",
        "# Annotate top genes\n",
        "# Top left: Large negative logfoldchanges and high p-value\n",
        "top_left = de_df[(de_df['logfoldchanges'] < 0) & (de_df['logfoldchanges'].abs() > 5) & (de_df['-log_pval'] > 100)].sort_values(by='logfoldchanges')\n",
        "# Top right: Large positive logfoldchanges and high p-value\n",
        "top_right = de_df[(de_df['logfoldchanges'] > 0) & (de_df['logfoldchanges'].abs() > 5) & (de_df['-log_pval'] > 70)].sort_values(by='logfoldchanges')\n",
        "# Combine top left and top right for annotation\n",
        "annotate_df = pd.concat([top_left, top_right])\n",
        "\n",
        "texts = []\n",
        "for i in range(annotate_df.shape[0]):\n",
        "  # Determine horizontal alignment based on the sign of logfoldchanges\n",
        "    horizontal_align = 'left' if annotate_df['logfoldchanges'].iloc[i] > 0 else 'right'\n",
        "\n",
        "    texts.append(\n",
        "        plt.text(\n",
        "            annotate_df['logfoldchanges'].iloc[i],    # X-coordinate\n",
        "            annotate_df['-log_pval'].iloc[i],         # Y-coordinate\n",
        "            annotate_df['names'].iloc[i],             # Gene names\n",
        "            horizontalalignment=horizontal_align,\n",
        "            size='medium',\n",
        "            color='black',\n",
        "            family='monospace'\n",
        "        )\n",
        "    )\n",
        "\n",
        "# Adjust the annotations to avoid overlap\n",
        "adjust_text(\n",
        "    texts,\n",
        "    expand=(1.2, 1.2),\n",
        "    arrowprops=dict(color='gray', lw=1.5)\n",
        ")\n",
        "\n",
        "# Show the plot\n",
        "plt.tight_layout()\n",
        "plt.show()"
      ],
      "metadata": {
        "id": "lp_QQX_7bwZ-"
      },
      "execution_count": null,
      "outputs": []
    },
    {
      "cell_type": "code",
      "source": [],
      "metadata": {
        "id": "uHzdbL9JY0vZ"
      },
      "execution_count": null,
      "outputs": []
    },
    {
      "cell_type": "markdown",
      "source": [
        "## interactive plots\n",
        "\n",
        "Here we use: https://github.com/holoviz/hvplot\n",
        "\n",
        "See also: https://plotly.com/python/"
      ],
      "metadata": {
        "id": "JBHHWPnVkIak"
      }
    },
    {
      "cell_type": "code",
      "source": [
        "!pip install --quiet hvplot"
      ],
      "metadata": {
        "id": "Jml1p3JFQDZc"
      },
      "execution_count": null,
      "outputs": []
    },
    {
      "cell_type": "code",
      "source": [
        "import hvplot.pandas"
      ],
      "metadata": {
        "id": "7Wrj0yYBP1QH"
      },
      "execution_count": null,
      "outputs": []
    },
    {
      "cell_type": "code",
      "source": [
        "de_df.hvplot.scatter(\n",
        "    x=\"logfoldchanges\", y=\"pvals_adj\",  # Specify x and y axes\n",
        "    flip_yaxis=True, logy=True,  # Flip y-axis and apply logarithmic scale\n",
        "    hover_cols=[\"names\"],\n",
        ")"
      ],
      "metadata": {
        "id": "l2QKcLWFj7Q5"
      },
      "execution_count": null,
      "outputs": []
    },
    {
      "cell_type": "code",
      "source": [
        "### more parameters\n",
        "\n",
        "de_df.hvplot.scatter(\n",
        "    x=\"logfoldchanges\", y=\"pvals_adj\",  # Specify x and y axes\n",
        "    flip_yaxis=True, logy=True,  # Flip y-axis and apply logarithmic scale\n",
        "    hover_cols=[\"names\"],  # Hover tool for gene names\n",
        "    c=\"logfoldchanges\",  # Color points based on log fold change values\n",
        "    cmap=\"coolwarm_r\",  # Use a diverging colormap to highlight high/low values\n",
        "    size=30,  # Scale point size\n",
        "    xlabel=\"Log Fold Change\",  # Label x-axis\n",
        "    ylabel=\"Adjusted P-values\",  # Label y-axis\n",
        "    marker=\"o\",  # Use circle markers for better clarity\n",
        "    frame_width=600, frame_height=400,  # Control plot size\n",
        "    fontsize=15\n",
        ").opts(\n",
        "    colorbar=True, clim=(-5, 5)  # Set color limits explicitly in opts\n",
        ")\n"
      ],
      "metadata": {
        "id": "y1usZ_ZQPvp0"
      },
      "execution_count": null,
      "outputs": []
    },
    {
      "cell_type": "code",
      "source": [],
      "metadata": {
        "id": "hXdQG2klSdji"
      },
      "execution_count": null,
      "outputs": []
    }
  ]
}
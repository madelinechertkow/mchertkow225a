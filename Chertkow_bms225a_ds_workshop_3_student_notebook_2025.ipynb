{
  "nbformat": 4,
  "nbformat_minor": 0,
  "metadata": {
    "colab": {
      "provenance": [],
      "toc_visible": true,
      "collapsed_sections": [
        "N2Qm2qKabSwM"
      ],
      "include_colab_link": true
    },
    "kernelspec": {
      "name": "python3",
      "display_name": "Python 3"
    },
    "language_info": {
      "name": "python"
    }
  },
  "cells": [
    {
      "cell_type": "markdown",
      "metadata": {
        "id": "view-in-github",
        "colab_type": "text"
      },
      "source": [
        "<a href=\"https://colab.research.google.com/github/madelinechertkow/mchertkow225a/blob/main/Chertkow_bms225a_ds_workshop_3_student_notebook_2025.ipynb\" target=\"_parent\"><img src=\"https://colab.research.google.com/assets/colab-badge.svg\" alt=\"Open In Colab\"/></a>"
      ]
    },
    {
      "cell_type": "markdown",
      "source": [
        "### Setup"
      ],
      "metadata": {
        "id": "N2Qm2qKabSwM"
      }
    },
    {
      "cell_type": "code",
      "source": [
        "# install scanpy with additional dependences\n",
        "# leiden for clustering, harmony for batch correction and skmisc which is needed for HVG selection\n",
        "!pip install --quiet 'scanpy[leiden,harmony,skmisc]'"
      ],
      "metadata": {
        "id": "RRm6sIQWYjqw"
      },
      "execution_count": null,
      "outputs": []
    },
    {
      "cell_type": "markdown",
      "source": [
        "The following cell downloads the original data and creates the data files `/content/blood_RNA_raw_counts.h5ad` and `/content/blood_RNA_raw_counts_SCG12.h5ad` that we will use for our analysis."
      ],
      "metadata": {
        "id": "xDeW27zhawEq"
      }
    },
    {
      "cell_type": "code",
      "execution_count": null,
      "metadata": {
        "id": "X6XPqbwolXhs",
        "cellView": "form"
      },
      "outputs": [],
      "source": [
        "# @title Download Data and create the **raw data** files that we will use for our analysis\n",
        "################# THIS IS NOT PART OF THE WORKFLOW ##################\n",
        "import os\n",
        "\n",
        "if not os.path.exists('/content/blood_RNA.h5ad'):\n",
        "  # downloading the data from the paper takes ~1min\n",
        "  !wget -O blood_RNA.h5ad --header=\"User-Agent: Mozilla/5.0\" \"https://figshare.com/ndownloader/files/38849385?private_link=8aaa376913da23ae0def\" > /dev/null 2>&1\n",
        "\n",
        "\n",
        "if not os.path.exists('/content/blood_RNA_raw_counts.h5ad'):\n",
        "  # -- create the raw data by removing all processed data information from the author's file\n",
        "  import scanpy as sc\n",
        "  # load the single cell RNA seq dataset from the h5ad file\n",
        "  adata_processed = sc.read_h5ad('blood_RNA.h5ad') # AnnData object\n",
        "  X_raw_counts = adata_processed.layers['counts']\n",
        "  # the var dataframe\n",
        "  raw_var_df = adata_processed.raw.var.copy()\n",
        "  for i in raw_var_df.columns:\n",
        "    del raw_var_df[i]\n",
        "  raw_var_df['gene_name'] = raw_var_df.index\n",
        "  # the obs dataframe\n",
        "  raw_obs_df = adata_processed.obs[['LIBRARY',\t'CoLabs_patient',\t'condition']]\n",
        "  raw_obs_df.columns = ['LIBRARY_ID', 'patient_id', 'condition']\n",
        "  # create the anndata object\n",
        "  adata = sc.AnnData(X = X_raw_counts, var=raw_var_df, obs=raw_obs_df)\n",
        "  adata.write_h5ad('blood_RNA_raw_counts.h5ad')\n",
        "  adata=adata[ adata.obs['LIBRARY_ID'] == 'XAUT1-POOL-SCG12']\n",
        "  adata.write_h5ad('blood_RNA_raw_counts_SCG12.h5ad')\n",
        "  del adata, adata_processed # delete the all data"
      ]
    },
    {
      "cell_type": "markdown",
      "source": [
        "# Single cell RNA seq analysis (single batch)\n",
        "## Let's do a single batch first\n",
        "The `'blood_RNA_raw_counts_SCG12.h5ad'` file only contains the single-cell data from a single sequencing batch (library):\n",
        "\n",
        "LIBRARY_ID: `XAUT1-POOL-SCG12`."
      ],
      "metadata": {
        "id": "EmIVs-jG2daT"
      }
    },
    {
      "cell_type": "code",
      "source": [
        "import pandas as pd\n",
        "import scanpy as sc"
      ],
      "metadata": {
        "id": "68KPM4oF2g-v"
      },
      "execution_count": null,
      "outputs": []
    },
    {
      "cell_type": "code",
      "source": [
        "### Settings (optional) ###\n",
        "\n",
        "# Show more columns in output\n",
        "pd.set_option('display.max_columns', 50)\n",
        "# Set parameters for the figures // sc.settings.set_figure_params?\n",
        "sc.settings.set_figure_params(dpi=80,fontsize=16, facecolor=\"white\",figsize=(8,6),color_map='viridis')\n",
        "# Suppress all warnings -- not recommended when working on your research projects!\n",
        "import warnings\n",
        "warnings.filterwarnings(\"ignore\")\n",
        "# print out the package versions\n",
        "print('scanpy version:', sc.__version__)\n",
        "print('pandas version:', pd.__version__)"
      ],
      "metadata": {
        "id": "DmFv2nvd2g-v"
      },
      "execution_count": null,
      "outputs": []
    },
    {
      "cell_type": "markdown",
      "source": [
        "## STEP 0: Load the data (raw counts)"
      ],
      "metadata": {
        "id": "rEg8eJGvqfE2"
      }
    },
    {
      "cell_type": "code",
      "source": [
        "###################################################### <- this will mark the functions that will change/update adata\n",
        "# [🔺] load the AnnData object from the h5ad file (blood_RNA_raw_counts_SCG12)\n",
        "\n",
        "\n",
        "\n",
        "\n",
        "\n",
        "\n"
      ],
      "metadata": {
        "id": "iF7wL45HqeSy"
      },
      "execution_count": null,
      "outputs": []
    },
    {
      "cell_type": "code",
      "source": [
        "# display a summary of AnnData object\n",
        "adata"
      ],
      "metadata": {
        "id": "OkNeJ1sgqeP9"
      },
      "execution_count": null,
      "outputs": []
    },
    {
      "cell_type": "code",
      "source": [
        "# [🔺] lets explore what is in adata. In the following two cells display the obs and var dataframes\n",
        "\n",
        "\n",
        "\n"
      ],
      "metadata": {
        "id": "Ke0ilCr_qeND"
      },
      "execution_count": null,
      "outputs": []
    },
    {
      "cell_type": "code",
      "source": [
        "# [🔺] obs\n",
        "\n",
        "\n",
        "\n"
      ],
      "metadata": {
        "id": "aauGm8RLD2Br"
      },
      "execution_count": null,
      "outputs": []
    },
    {
      "cell_type": "code",
      "source": [
        "# [🔺] var\n",
        "\n",
        "\n",
        "\n"
      ],
      "metadata": {
        "id": "a71EnwTtD1-I"
      },
      "execution_count": null,
      "outputs": []
    },
    {
      "cell_type": "code",
      "source": [
        "# adata.var_names stores the gene names. It is the same as the index of the var dataframe:\n",
        "adata.var_names"
      ],
      "metadata": {
        "id": "EG8VDw2yD3b7"
      },
      "execution_count": null,
      "outputs": []
    },
    {
      "cell_type": "code",
      "source": [
        "# You can also directly access adata.X\n",
        "adata.X"
      ],
      "metadata": {
        "id": "Qw7ZlJwtvwjn"
      },
      "execution_count": null,
      "outputs": []
    },
    {
      "cell_type": "markdown",
      "source": [
        "## STEP 1: Quality control"
      ],
      "metadata": {
        "id": "oPyg9RPtvn_c"
      }
    },
    {
      "cell_type": "code",
      "source": [
        "# mitochondrial gene names start with \"MT-\" for human and \"Mt-\" for mouse\n",
        "# explain what the following command does (Hint: what is adata.var_names? what does the .str.startstwith() function do?)\n",
        "adata.var_names.str.startswith(\"MT-\")"
      ],
      "metadata": {
        "id": "Q4Ox8tpx1RM2"
      },
      "execution_count": null,
      "outputs": []
    },
    {
      "cell_type": "code",
      "source": [
        "######################################################\n",
        "# [🔺] create a new column in adata.var dataframe that indicates if a gene is mitochondrial or not (True if it is / False otherwise)\n",
        "# choose an informative name for the new column : )\n",
        "\n",
        "\n",
        "\n",
        "\n",
        "\n",
        "\n",
        "\n"
      ],
      "metadata": {
        "id": "UoyeJ3wYuDnJ"
      },
      "execution_count": null,
      "outputs": []
    },
    {
      "cell_type": "code",
      "source": [
        "# verify that the column was added (you can just display the relevant dataframe)\n",
        "adata.var.head()"
      ],
      "metadata": {
        "id": "XTW20VIYxg4b"
      },
      "execution_count": null,
      "outputs": []
    },
    {
      "cell_type": "code",
      "source": [
        "# [🔺] pandas practice: select the var rows that correspond to mitochondrial genes.\n",
        "# How many mitochondrial genes are in this dataset?\n",
        "# Hint: adata.var is a dataframe and can be sliced as df[ condition based on a logical expression  ]\n",
        "# Hint2: slice the var dataframe where the column you created above is equal to True\n",
        "\n",
        "\n",
        "\n",
        "\n",
        "\n"
      ],
      "metadata": {
        "id": "lvUG30N0xojy"
      },
      "execution_count": null,
      "outputs": []
    },
    {
      "cell_type": "code",
      "source": [
        "# [🔹] for practice you can also add a column that indicates whether a gene is ribosomal\n",
        "# ribosomal genes start with \"RP\" for human, \"Rp\" for mouse\n",
        "\n",
        "\n",
        "\n",
        "\n",
        "\n"
      ],
      "metadata": {
        "id": "Joov_nevuDki"
      },
      "execution_count": null,
      "outputs": []
    },
    {
      "cell_type": "markdown",
      "source": [
        "### Calculate QC metrics"
      ],
      "metadata": {
        "id": "wQh4qd5Ox57_"
      }
    },
    {
      "cell_type": "code",
      "source": [
        "adata # lets remind ourseleves about adata, the following command will add a lot of information"
      ],
      "metadata": {
        "id": "dlyMXNxnzBgg"
      },
      "execution_count": null,
      "outputs": []
    },
    {
      "cell_type": "code",
      "source": [
        "######################################################\n",
        "# [🔺]use the sc.pp.calculate_qc_metrics() function to calculate qc metrics\n",
        "# replace '????' with the column that indicated mitochondrial genes so that we also compute “% of counts in genes marked as mitochondrial”\n",
        "# inplace=True --> updates the adata dataframe in place (adding all the qc columns)\n",
        "# log1p=True --> calculates log1p tranformed versions (e.g., mean of logarithmized counts)\n",
        "\n",
        "\n",
        "\n",
        "sc.pp.calculate_qc_metrics(adata, qc_vars=['?????'], inplace=True, log1p=True)"
      ],
      "metadata": {
        "id": "EwJL4xumuDej"
      },
      "execution_count": null,
      "outputs": []
    },
    {
      "cell_type": "code",
      "source": [
        "adata"
      ],
      "metadata": {
        "id": "aPbkoVhwyd0l"
      },
      "execution_count": null,
      "outputs": []
    },
    {
      "cell_type": "markdown",
      "source": [
        "### Filter genes"
      ],
      "metadata": {
        "id": "-hHsjVDb3Gpp"
      }
    },
    {
      "cell_type": "code",
      "source": [
        "######################################################\n",
        "# [🔺]filter genes that are expressed in fewer than 5 cells\n",
        "\n",
        "\n",
        "\n",
        "\n",
        "\n",
        "\n",
        "\n"
      ],
      "metadata": {
        "id": "p0lZh6zt1SPi"
      },
      "execution_count": null,
      "outputs": []
    },
    {
      "cell_type": "code",
      "source": [
        "adata # notice that the number of genes decreased"
      ],
      "metadata": {
        "id": "fSkDA-uj27Ib"
      },
      "execution_count": null,
      "outputs": []
    },
    {
      "cell_type": "markdown",
      "source": [
        "### Visualize QC metrics (cells)"
      ],
      "metadata": {
        "id": "aNbzzJVA3Xy0"
      }
    },
    {
      "cell_type": "code",
      "source": [
        "sc.pl.violin(\n",
        "    adata,\n",
        "    keys = [\"log1p_n_genes_by_counts\", \"log1p_total_counts\", \"pct_counts_mt\"],\n",
        "    jitter=0.1,\n",
        "    multi_panel=True,\n",
        "    size=1\n",
        ")"
      ],
      "metadata": {
        "id": "W1JNKn1U3dlu"
      },
      "execution_count": null,
      "outputs": []
    },
    {
      "cell_type": "code",
      "source": [
        "sc.pl.scatter(adata, \"log1p_total_counts\", \"pct_counts_mt\", color=\"log1p_n_genes_by_counts\",size=50)"
      ],
      "metadata": {
        "id": "F7PPyQRg3xKB"
      },
      "execution_count": null,
      "outputs": []
    },
    {
      "cell_type": "markdown",
      "source": [
        "### Filter cells"
      ],
      "metadata": {
        "id": "EDJn1UdK5Mdq"
      }
    },
    {
      "cell_type": "code",
      "source": [
        "# [🔺] pandas practice: How many cells have log1p_total_counts above 8?\n",
        "\n",
        "\n",
        "\n",
        "\n",
        "\n",
        "\n",
        "\n",
        "\n"
      ],
      "metadata": {
        "id": "VtXWg2n2haeW"
      },
      "execution_count": null,
      "outputs": []
    },
    {
      "cell_type": "code",
      "source": [
        "##################################################\n",
        "# [🔺] filter out cells by choosing QC thresholds for 'log1p_total_counts' and 'pct_counts_mt' based on the above plots\n",
        "# ok to be lenient we can revisit this after clustering.\n",
        "# Hint: AnnData can be sliced as a dataframe based on a condition (logical expression). E.g., df[df['age']>20]\n",
        "# for AnnData the condition can be computed based on the obs dataframe: e.g., adata[ obs dataframe column is greater than 5 ]\n",
        "# After slicing adata, don't forget to save the output back to adata: e.g. as we update a df variable df=df[df['age']>20].\n",
        "\n",
        "\n",
        "\n",
        "\n",
        "\n",
        "\n",
        "\n",
        "\n",
        "\n"
      ],
      "metadata": {
        "id": "YhA8nvII4gfu"
      },
      "execution_count": null,
      "outputs": []
    },
    {
      "cell_type": "code",
      "source": [],
      "metadata": {
        "id": "MATRVVlQIUWR"
      },
      "execution_count": null,
      "outputs": []
    },
    {
      "cell_type": "code",
      "source": [
        "adata # notice that the number of cells decreased"
      ],
      "metadata": {
        "id": "Ih9xhodX5auk"
      },
      "execution_count": null,
      "outputs": []
    },
    {
      "cell_type": "markdown",
      "source": [
        "### Doublet detection (scrublet)"
      ],
      "metadata": {
        "id": "mMJhCV4-6KcU"
      }
    },
    {
      "cell_type": "markdown",
      "source": [
        "- We expect very few doublets in this particular case. The majority of doublets were removed using genetic information / patient SNPs.\n"
      ],
      "metadata": {
        "id": "UAcjeugt712X"
      }
    },
    {
      "cell_type": "code",
      "source": [
        "#############################################\n",
        "# doublet detection with scrublet\n",
        "sc.pp.scrublet(adata)"
      ],
      "metadata": {
        "id": "gzlwAO9H5jgd"
      },
      "execution_count": null,
      "outputs": []
    },
    {
      "cell_type": "code",
      "source": [
        "adata # notice the columns 'doublet_score' and 'predicted_doublet' were added in obs. Also .uns appeared."
      ],
      "metadata": {
        "id": "jIFE3NE86jjE"
      },
      "execution_count": null,
      "outputs": []
    },
    {
      "cell_type": "code",
      "source": [
        "#### !!!\n",
        "#### This is NOT part of the single cell analysis\n",
        "#### we run this to create some (fake) detected doublets\n",
        "#### because no doublets are actually detected in this sample\n",
        "import numpy as np\n",
        "adata.obs[\"predicted_doublet\"] = np.random.rand(adata.n_obs) < 0.05"
      ],
      "metadata": {
        "id": "DUQ_8QmV-tuG"
      },
      "execution_count": null,
      "outputs": []
    },
    {
      "cell_type": "code",
      "source": [
        "# .value_counts(): count how many times a value appears in a column of a dataframe\n",
        "adata.obs['predicted_doublet'].value_counts()"
      ],
      "metadata": {
        "id": "HkjieXCD7Cnx"
      },
      "execution_count": null,
      "outputs": []
    },
    {
      "cell_type": "code",
      "source": [
        "##############################################\n",
        "# [🔺] AnnData challenge: filter out detected doublets!\n",
        "# Hint1: adata can be sliced as a DataFrame, i.e., adata[ some condition here ]\n",
        "# Hint2: adata.obs has the predicted_doublet column which is False for the cells we want to keep\n",
        "\n",
        "\n",
        "\n",
        "\n",
        "\n",
        "\n",
        "\n",
        "\n",
        "\n"
      ],
      "metadata": {
        "id": "JslXT6px6tmb"
      },
      "execution_count": null,
      "outputs": []
    },
    {
      "cell_type": "markdown",
      "source": [
        "## STEP 2: Normalization and log-transformation"
      ],
      "metadata": {
        "id": "LfLd53qo-fU0"
      }
    },
    {
      "cell_type": "code",
      "source": [
        "##############################################\n",
        "# Before normalization, we want to save the count data to a new layer. The .copy() in the end makes sure that the data in adata.X are duplicated!!\n",
        "# Otherwise the adata.layers[\"counts\"] and adata.X will be pointing to the same location in computer memory\n",
        "# which means that when one of them changes the other one does too. We don't want that : )\n",
        "\n",
        "adata.layers[\"counts\"] = adata.X.copy()"
      ],
      "metadata": {
        "id": "WQQHhyv67JZD"
      },
      "execution_count": null,
      "outputs": []
    },
    {
      "cell_type": "code",
      "source": [
        "adata.layers[\"counts\"].sum()"
      ],
      "metadata": {
        "id": "JEqQIR-oLXjp"
      },
      "execution_count": null,
      "outputs": []
    },
    {
      "cell_type": "code",
      "source": [
        "adata"
      ],
      "metadata": {
        "id": "TrmeUEHn-o4B"
      },
      "execution_count": null,
      "outputs": []
    },
    {
      "cell_type": "code",
      "source": [
        "##############################################\n",
        "# [🔺] Normalize data to 10K total counts\n",
        "\n",
        "\n",
        "\n",
        "\n",
        "\n",
        "\n",
        "\n",
        "\n",
        "\n",
        "\n",
        "\n"
      ],
      "metadata": {
        "id": "CitB7AIf-vU4"
      },
      "execution_count": null,
      "outputs": []
    },
    {
      "cell_type": "markdown",
      "source": [
        "- `target_sum = 10000` is kind of arbitrary but very widely used. If we don't specify the target_sum parameter, `sc.pp.normalize_total(adata)` by default will normalize to the median of the total counts.\n"
      ],
      "metadata": {
        "id": "gybD2RgPAknd"
      }
    },
    {
      "cell_type": "code",
      "source": [
        "# The only thing that changed is the X matrix (gene expression),\n",
        "# which is now normalized to sum to 10K\n",
        "adata.X.sum(1)"
      ],
      "metadata": {
        "id": "dZ2e-xIvA3ve"
      },
      "execution_count": null,
      "outputs": []
    },
    {
      "cell_type": "code",
      "source": [
        "##############################################\n",
        "# [🔺] Logarithmize the data\n",
        "\n",
        "\n",
        "\n",
        "\n",
        "\n",
        "\n",
        "\n",
        "\n",
        "\n"
      ],
      "metadata": {
        "id": "9X6EMoxQB3Ef"
      },
      "execution_count": null,
      "outputs": []
    },
    {
      "cell_type": "code",
      "source": [
        "adata.X.sum(1) # the X matrix changed. Each entry is now log(1+x)"
      ],
      "metadata": {
        "id": "AqH8bXWPB6Lk"
      },
      "execution_count": null,
      "outputs": []
    },
    {
      "cell_type": "code",
      "source": [
        "######################################################\n",
        "# [🔺] save the log1p normalized counts to a new layer! Let's call it 'log1p'\n",
        "# We want to keep these around (useful for plotting and differential expression analysis) and adata.X will change again later.\n",
        "\n",
        "\n",
        "\n",
        "\n",
        "\n",
        "\n",
        "\n",
        "\n",
        "\n"
      ],
      "metadata": {
        "id": "Uu_OtewLCAgb"
      },
      "execution_count": null,
      "outputs": []
    },
    {
      "cell_type": "code",
      "source": [],
      "metadata": {
        "id": "Mm3zlExSDDgO"
      },
      "execution_count": null,
      "outputs": []
    },
    {
      "cell_type": "markdown",
      "source": [
        "## STEP 3: Highly variable genes (feature selection)"
      ],
      "metadata": {
        "id": "-MPxDjn0Ddzo"
      }
    },
    {
      "cell_type": "code",
      "source": [
        "######################################################\n",
        "sc.pp.highly_variable_genes(adata, n_top_genes = 2000,\n",
        "                            flavor='seurat_v3',\n",
        "                            layer='counts')"
      ],
      "metadata": {
        "id": "oflkqDnRDDBO"
      },
      "execution_count": null,
      "outputs": []
    },
    {
      "cell_type": "code",
      "source": [
        "# This added information in the var dataframe\n",
        "adata.var"
      ],
      "metadata": {
        "id": "KE_qZJRRDVhd"
      },
      "execution_count": null,
      "outputs": []
    },
    {
      "cell_type": "code",
      "source": [
        "# .sort_values(): sort a dataframe with respect to the values of a given column\n",
        "# .head(10) prints the top 10\n",
        "adata.var.sort_values('highly_variable_rank').head(10)"
      ],
      "metadata": {
        "id": "L47NIuNMFVqF"
      },
      "execution_count": null,
      "outputs": []
    },
    {
      "cell_type": "markdown",
      "source": [
        "## STEP 4: Dimensionality reduction with PCA"
      ],
      "metadata": {
        "id": "Rjig-0E2HCYe"
      }
    },
    {
      "cell_type": "code",
      "source": [
        "adata # lets remind ourseleves about adata, the PCA will add a more information"
      ],
      "metadata": {
        "id": "H-QivrvHGauf"
      },
      "execution_count": null,
      "outputs": []
    },
    {
      "cell_type": "code",
      "source": [
        "#####################################################################\n",
        "# Before PCA we typically scale features to unit variance (common step but not absolutely necessary)\n",
        "# Note that this changes adata.X\n",
        "sc.pp.scale(adata, zero_center=False) # we don't want to zero center."
      ],
      "metadata": {
        "id": "1slixUy7HIWj"
      },
      "execution_count": null,
      "outputs": []
    },
    {
      "cell_type": "code",
      "source": [
        "#####################################################################\n",
        "# PCA: by default this function uses only the highly variable genes\n",
        "sc.tl.pca(adata, n_comps=50) # specify number of PCs (default is 50)"
      ],
      "metadata": {
        "id": "eI7lA4DcIpju"
      },
      "execution_count": null,
      "outputs": []
    },
    {
      "cell_type": "code",
      "source": [
        "# notice that the .obsm appeared that holds representations of the cells (embeddings)\n",
        "adata"
      ],
      "metadata": {
        "id": "BX8UcHqULTtA"
      },
      "execution_count": null,
      "outputs": []
    },
    {
      "cell_type": "code",
      "source": [
        "# X_pca is a matrix of reduced dimensions (n_comps=50 in our case).\n",
        "adata.obsm['X_pca'].shape"
      ],
      "metadata": {
        "id": "-tz4qVjmMXge"
      },
      "execution_count": null,
      "outputs": []
    },
    {
      "cell_type": "markdown",
      "source": [
        "### Visualize PCA"
      ],
      "metadata": {
        "id": "qFzAReyxJ2rA"
      }
    },
    {
      "cell_type": "code",
      "source": [
        "sc.pl.pca(adata,size=50)"
      ],
      "metadata": {
        "id": "GQPQMLQAJ4Mn"
      },
      "execution_count": null,
      "outputs": []
    },
    {
      "cell_type": "code",
      "source": [
        "sc.pl.pca(adata,color='patient_id',size=10)"
      ],
      "metadata": {
        "id": "tvEdcBsJJ62C"
      },
      "execution_count": null,
      "outputs": []
    },
    {
      "cell_type": "code",
      "source": [
        "sc.pl.pca(adata,color=['CST3','CD79A'],size=50,layer='log1p')"
      ],
      "metadata": {
        "id": "r3k669WfKEtt"
      },
      "execution_count": null,
      "outputs": []
    },
    {
      "cell_type": "code",
      "source": [],
      "metadata": {
        "id": "16h7VWcjKM1i"
      },
      "execution_count": null,
      "outputs": []
    },
    {
      "cell_type": "markdown",
      "source": [
        "## STEP 5: Nearest-neighbor graph, Clustering and UMAP projection"
      ],
      "metadata": {
        "id": "7LKjIY2fK6am"
      }
    },
    {
      "cell_type": "code",
      "source": [
        "##############################################################\n",
        "# [🔺] construct a k nearest neighbors graph (knn)\n",
        "# 1. choose which representation to use\n",
        "# 2. choose n_neighbors. Also specify random_state for reproducibility.\n",
        "\n",
        "\n",
        "\n",
        "\n",
        "\n",
        "\n",
        "\n",
        "\n",
        "\n",
        "\n"
      ],
      "metadata": {
        "id": "K5xpFlDLK947"
      },
      "execution_count": null,
      "outputs": []
    },
    {
      "cell_type": "code",
      "source": [
        "adata"
      ],
      "metadata": {
        "id": "rfT1Fb21R-Fj"
      },
      "execution_count": null,
      "outputs": []
    },
    {
      "cell_type": "code",
      "source": [
        "##############################################################\n",
        "# community detection algorithm that is used to cluster cells\n",
        "# based on the neighbors graph we computed above.\n",
        "# --> the key_added parameter defines the name of the obs column that will be added\n",
        "#     this column will have the computed cluster label for each cell\n",
        "# --> the resolution parameter specifies how coarse or fine-grained clusters will be\n",
        "\n",
        "sc.tl.leiden(adata, resolution=1, key_added='leiden') # default parameters"
      ],
      "metadata": {
        "id": "_Hk9V9SHLNTr"
      },
      "execution_count": null,
      "outputs": []
    },
    {
      "cell_type": "code",
      "source": [
        "adata"
      ],
      "metadata": {
        "id": "C4bzyyiNR_Bh"
      },
      "execution_count": null,
      "outputs": []
    },
    {
      "cell_type": "code",
      "source": [
        "##############################################################\n",
        "# run umap on the neighbors graph we computed above\n",
        "sc.tl.umap(adata, min_dist=0.5, spread=1.0) # default values for the two main parameters"
      ],
      "metadata": {
        "id": "RSU4Xa5vLEbd"
      },
      "execution_count": null,
      "outputs": []
    },
    {
      "cell_type": "code",
      "source": [
        "adata"
      ],
      "metadata": {
        "id": "ERq2AMqOR_5v"
      },
      "execution_count": null,
      "outputs": []
    },
    {
      "cell_type": "markdown",
      "source": [
        "### Visualize UMAP"
      ],
      "metadata": {
        "id": "VCESmPepRV2J"
      }
    },
    {
      "cell_type": "code",
      "source": [
        "# the color parameter can be a list of genes. Gene expression is visualized from the specified layer\n",
        "sc.pl.umap(adata,color=['CST3','CD79A'],size=50,layer='log1p')"
      ],
      "metadata": {
        "id": "545vupIqPvv0"
      },
      "execution_count": null,
      "outputs": []
    },
    {
      "cell_type": "code",
      "source": [
        "# the color parameter can also be categorical (e.g., below we specify the column from obs that holds the cluster labels we want)\n",
        "sc.pl.umap(adata,color='leiden',size=50,legend_loc='on data')"
      ],
      "metadata": {
        "id": "WIYyZgd7RdBn"
      },
      "execution_count": null,
      "outputs": []
    },
    {
      "cell_type": "code",
      "source": [
        "##############################################################\n",
        "# [🔺] Cluster the cells at a lower resolution (e.g., resolution=0.5), and visualize again\n",
        "# Important: Give a different name to the labels so that we don't overwrite the 'leiden' column in obs\n",
        "# Hint: run the sc.tl.leiden function and then visualize with sc.pl.umap functions\n",
        "# Note: you don't need to re-run the umap agorithm\n",
        "\n",
        "\n",
        "\n",
        "\n",
        "\n",
        "\n",
        "\n",
        "\n",
        "\n",
        "\n"
      ],
      "metadata": {
        "id": "D_OZgQoeRq_K"
      },
      "execution_count": null,
      "outputs": []
    },
    {
      "cell_type": "code",
      "source": [
        "# [🔹] Experiment with different neighbors, leiden and umap parameters\n",
        "\n",
        "# lets work on a copy of the AnnData object for this\n",
        "bdata = adata.copy() # anything we do with bdata won't affect adata\n",
        "\n",
        "### pp.neighbors, tl.leiden, tl.umap and plot with pl.umap\n",
        "\n",
        "\n",
        "\n",
        "\n",
        "\n",
        "\n",
        "\n",
        "\n",
        "\n",
        "\n",
        "\n"
      ],
      "metadata": {
        "id": "fRUfQ2j2xJK7"
      },
      "execution_count": null,
      "outputs": []
    },
    {
      "cell_type": "markdown",
      "source": [
        "## Differential expression analysis"
      ],
      "metadata": {
        "id": "Xy5Ku3Y2TzvP"
      }
    },
    {
      "cell_type": "code",
      "source": [
        "##############################################################\n",
        "sc.tl.rank_genes_groups(adata,\n",
        "                        groupby='leiden_coarse',\n",
        "                        method='wilcoxon',\n",
        "                        layer='log1p')"
      ],
      "metadata": {
        "id": "49nblD5lTHHP"
      },
      "execution_count": null,
      "outputs": []
    },
    {
      "cell_type": "code",
      "source": [
        "sc.pl.rank_genes_groups_dotplot(adata,\n",
        "                                n_genes=6,\n",
        "                                values_to_plot='logfoldchanges',\n",
        "                                min_logfoldchange=3,\n",
        "                                vmax=5,\n",
        "                                vmin=-5,\n",
        "                                cmap='bwr',\n",
        "                                dot_max=0.7)\n"
      ],
      "metadata": {
        "id": "QhUHKC5YTSAW"
      },
      "execution_count": null,
      "outputs": []
    },
    {
      "cell_type": "code",
      "source": [
        "##############################################################\n",
        "# [🔺] annotate the clusters!!\n",
        "\n",
        "clusters_to_labels = {\n",
        "    '0':'?',\n",
        "    '1':'??',\n",
        "    '2':'???',\n",
        "    '3':'????'\n",
        "\n",
        "}\n",
        "\n",
        "# use the above dict to create a new column in obs with all cells labeled\n",
        "# this is done by first mapping the cluster column to the values of the dict\n",
        "# and assigning the result to a new column in obs\n",
        "adata.obs['???'] = adata.obs['???'].map(clusters_to_labels)\n",
        "\n",
        "\n",
        "## umap plot with the new labels\n",
        "sc.pl.umap(adata,color='???',size=50,legend_loc='on data',legend_fontoutline=2,legend_fontsize=50)"
      ],
      "metadata": {
        "id": "19n1Owe9TYGM"
      },
      "execution_count": null,
      "outputs": []
    },
    {
      "cell_type": "markdown",
      "source": [
        "## STEP 6: Save the processed dataset"
      ],
      "metadata": {
        "id": "4WOAPFMWXpp2"
      }
    },
    {
      "cell_type": "code",
      "source": [
        "adata.write_h5ad('blood_RNA_BMS225a_single_batch.h5ad') # this will be deleted when this session ends"
      ],
      "metadata": {
        "id": "SXqSZO5GXo_m"
      },
      "execution_count": null,
      "outputs": []
    },
    {
      "cell_type": "code",
      "source": [
        "# [🔺] The h5ad file is too big to download so let's mount google drive from the Files tab and save it there\n",
        "# adata.write_h5ad('/content/drive/MyDrive/your_project_folder/blood_RNA_BMS225a_single_batch.h5ad')"
      ],
      "metadata": {
        "id": "pT6D6a5EXo8x"
      },
      "execution_count": null,
      "outputs": []
    },
    {
      "cell_type": "markdown",
      "source": [
        "# Compact version of the analysis"
      ],
      "metadata": {
        "id": "gLw02tswCDZC"
      }
    },
    {
      "cell_type": "code",
      "source": [
        "### [🔺] re-run all the commands that are necessary to get us from the raw data to the processed dataset\n",
        "### For this compact version we can skip steps that print dataframes/ plot data / etc\n",
        "\n",
        "new_data = sc.read_h5ad('blood_RNA_raw_counts_SCG12.h5ad')\n",
        "\n",
        "\n",
        "#...\n",
        "\n",
        "\n",
        "#...\n",
        "\n",
        "\n",
        "#...\n",
        "\n",
        "\n",
        "#...\n",
        "\n",
        "\n",
        "#...\n",
        "\n",
        "\n",
        "#...\n",
        "\n",
        "\n",
        "#...\n",
        "\n",
        "\n",
        "#...\n",
        "\n",
        "### if everything is right we should be able to get the same umap as above\n",
        "sc.pl.umap(new_data,...)"
      ],
      "metadata": {
        "id": "6FD3Bec0VtqZ"
      },
      "execution_count": null,
      "outputs": []
    },
    {
      "cell_type": "markdown",
      "source": [
        "# DONE"
      ],
      "metadata": {
        "id": "ZLhAnqPc3bYW"
      }
    }
  ]
}